{
 "cells": [
  {
   "cell_type": "markdown",
   "metadata": {
    "id": "C4OdXpJIBBGN"
   },
   "source": [
    "# Download and EDA"
   ]
  },
  {
   "cell_type": "markdown",
   "metadata": {
    "id": "fm2NRDIAqEzI"
   },
   "source": [
    "## Environment setup"
   ]
  },
  {
   "cell_type": "code",
   "execution_count": null,
   "metadata": {
    "colab": {
     "base_uri": "https://localhost:8080/"
    },
    "executionInfo": {
     "elapsed": 1009,
     "status": "ok",
     "timestamp": 1750443165637,
     "user": {
      "displayName": "Miguel Angel Pardo",
      "userId": "16900940354237523056"
     },
     "user_tz": -120
    },
    "id": "IQl1rr6FSpKO",
    "outputId": "8dcb3c2a-8846-45f2-f5d9-76dfce8092bf"
   },
   "outputs": [
    {
     "name": "stdout",
     "output_type": "stream",
     "text": [
      "Drive already mounted at /content/drive/; to attempt to forcibly remount, call drive.mount(\"/content/drive/\", force_remount=True).\n"
     ]
    }
   ],
   "source": [
    "#from google.colab import drive\n",
    "#drive.mount('/content/drive/')"
   ]
  },
  {
   "cell_type": "code",
   "execution_count": null,
   "metadata": {
    "id": "ysmWbEeS5h5o"
   },
   "outputs": [],
   "source": [
    "#WORKING_PATH = '/content/drive/MyDrive/KeepCoding/NLP/exercise'\n"
   ]
  },
  {
   "cell_type": "code",
   "execution_count": null,
   "metadata": {
    "colab": {
     "base_uri": "https://localhost:8080/"
    },
    "executionInfo": {
     "elapsed": 1132,
     "status": "ok",
     "timestamp": 1750443171075,
     "user": {
      "displayName": "Miguel Angel Pardo",
      "userId": "16900940354237523056"
     },
     "user_tz": -120
    },
    "id": "TF0i-O5oTIwc",
    "outputId": "c70f3489-c04d-4ce9-8ad9-4f60f94ef434"
   },
   "outputs": [
    {
     "name": "stdout",
     "output_type": "stream",
     "text": [
      "/content/drive/MyDrive/KeepCoding/NLP/exercise\n"
     ]
    }
   ],
   "source": [
    "#%cd {WORKING_PATH}"
   ]
  },
  {
   "cell_type": "code",
   "execution_count": null,
   "metadata": {
    "id": "T4InpvkuquUm"
   },
   "outputs": [],
   "source": [
    "#!pip install -r requirements.txt"
   ]
  },
  {
   "cell_type": "code",
   "execution_count": 4,
   "metadata": {
    "id": "NSKbPus5P6b0"
   },
   "outputs": [
    {
     "ename": "ValueError",
     "evalue": "numpy.dtype size changed, may indicate binary incompatibility. Expected 96 from C header, got 88 from PyObject",
     "output_type": "error",
     "traceback": [
      "\u001b[0;31m---------------------------------------------------------------------------\u001b[0m",
      "\u001b[0;31mValueError\u001b[0m                                Traceback (most recent call last)",
      "Cell \u001b[0;32mIn[4], line 10\u001b[0m\n\u001b[1;32m      8\u001b[0m \u001b[38;5;28;01mfrom\u001b[39;00m\u001b[38;5;250m \u001b[39m\u001b[38;5;21;01mwordcloud\u001b[39;00m\u001b[38;5;250m \u001b[39m\u001b[38;5;28;01mimport\u001b[39;00m WordCloud, STOPWORDS\n\u001b[1;32m      9\u001b[0m \u001b[38;5;28;01mimport\u001b[39;00m\u001b[38;5;250m \u001b[39m\u001b[38;5;21;01mre\u001b[39;00m\n\u001b[0;32m---> 10\u001b[0m \u001b[38;5;28;01mfrom\u001b[39;00m\u001b[38;5;250m \u001b[39m\u001b[38;5;21;01mgensim\u001b[39;00m\u001b[38;5;21;01m.\u001b[39;00m\u001b[38;5;21;01mmodels\u001b[39;00m\u001b[38;5;250m \u001b[39m\u001b[38;5;28;01mimport\u001b[39;00m Word2Vec\n\u001b[1;32m     11\u001b[0m \u001b[38;5;28;01mfrom\u001b[39;00m\u001b[38;5;250m \u001b[39m\u001b[38;5;21;01mwordcloud\u001b[39;00m\u001b[38;5;250m \u001b[39m\u001b[38;5;28;01mimport\u001b[39;00m WordCloud, STOPWORDS\n\u001b[1;32m     12\u001b[0m \u001b[38;5;28;01mimport\u001b[39;00m\u001b[38;5;250m \u001b[39m\u001b[38;5;21;01mrandom\u001b[39;00m\n",
      "File \u001b[0;32m~/miniconda3/envs/py310/lib/python3.10/site-packages/gensim/__init__.py:11\u001b[0m\n\u001b[1;32m      7\u001b[0m __version__ \u001b[38;5;241m=\u001b[39m \u001b[38;5;124m'\u001b[39m\u001b[38;5;124m4.3.3\u001b[39m\u001b[38;5;124m'\u001b[39m\n\u001b[1;32m      9\u001b[0m \u001b[38;5;28;01mimport\u001b[39;00m\u001b[38;5;250m \u001b[39m\u001b[38;5;21;01mlogging\u001b[39;00m\n\u001b[0;32m---> 11\u001b[0m \u001b[38;5;28;01mfrom\u001b[39;00m\u001b[38;5;250m \u001b[39m\u001b[38;5;21;01mgensim\u001b[39;00m\u001b[38;5;250m \u001b[39m\u001b[38;5;28;01mimport\u001b[39;00m parsing, corpora, matutils, interfaces, models, similarities, utils  \u001b[38;5;66;03m# noqa:F401\u001b[39;00m\n\u001b[1;32m     14\u001b[0m logger \u001b[38;5;241m=\u001b[39m logging\u001b[38;5;241m.\u001b[39mgetLogger(\u001b[38;5;124m'\u001b[39m\u001b[38;5;124mgensim\u001b[39m\u001b[38;5;124m'\u001b[39m)\n\u001b[1;32m     15\u001b[0m \u001b[38;5;28;01mif\u001b[39;00m \u001b[38;5;129;01mnot\u001b[39;00m logger\u001b[38;5;241m.\u001b[39mhandlers:  \u001b[38;5;66;03m# To ensure reload() doesn't add another one\u001b[39;00m\n",
      "File \u001b[0;32m~/miniconda3/envs/py310/lib/python3.10/site-packages/gensim/corpora/__init__.py:6\u001b[0m\n\u001b[1;32m      1\u001b[0m \u001b[38;5;124;03m\"\"\"\u001b[39;00m\n\u001b[1;32m      2\u001b[0m \u001b[38;5;124;03mThis package contains implementations of various streaming corpus I/O format.\u001b[39;00m\n\u001b[1;32m      3\u001b[0m \u001b[38;5;124;03m\"\"\"\u001b[39;00m\n\u001b[1;32m      5\u001b[0m \u001b[38;5;66;03m# bring corpus classes directly into package namespace, to save some typing\u001b[39;00m\n\u001b[0;32m----> 6\u001b[0m \u001b[38;5;28;01mfrom\u001b[39;00m\u001b[38;5;250m \u001b[39m\u001b[38;5;21;01m.\u001b[39;00m\u001b[38;5;21;01mindexedcorpus\u001b[39;00m\u001b[38;5;250m \u001b[39m\u001b[38;5;28;01mimport\u001b[39;00m IndexedCorpus  \u001b[38;5;66;03m# noqa:F401 must appear before the other classes\u001b[39;00m\n\u001b[1;32m      8\u001b[0m \u001b[38;5;28;01mfrom\u001b[39;00m\u001b[38;5;250m \u001b[39m\u001b[38;5;21;01m.\u001b[39;00m\u001b[38;5;21;01mmmcorpus\u001b[39;00m\u001b[38;5;250m \u001b[39m\u001b[38;5;28;01mimport\u001b[39;00m MmCorpus  \u001b[38;5;66;03m# noqa:F401\u001b[39;00m\n\u001b[1;32m      9\u001b[0m \u001b[38;5;28;01mfrom\u001b[39;00m\u001b[38;5;250m \u001b[39m\u001b[38;5;21;01m.\u001b[39;00m\u001b[38;5;21;01mbleicorpus\u001b[39;00m\u001b[38;5;250m \u001b[39m\u001b[38;5;28;01mimport\u001b[39;00m BleiCorpus  \u001b[38;5;66;03m# noqa:F401\u001b[39;00m\n",
      "File \u001b[0;32m~/miniconda3/envs/py310/lib/python3.10/site-packages/gensim/corpora/indexedcorpus.py:14\u001b[0m\n\u001b[1;32m     10\u001b[0m \u001b[38;5;28;01mimport\u001b[39;00m\u001b[38;5;250m \u001b[39m\u001b[38;5;21;01mlogging\u001b[39;00m\n\u001b[1;32m     12\u001b[0m \u001b[38;5;28;01mimport\u001b[39;00m\u001b[38;5;250m \u001b[39m\u001b[38;5;21;01mnumpy\u001b[39;00m\n\u001b[0;32m---> 14\u001b[0m \u001b[38;5;28;01mfrom\u001b[39;00m\u001b[38;5;250m \u001b[39m\u001b[38;5;21;01mgensim\u001b[39;00m\u001b[38;5;250m \u001b[39m\u001b[38;5;28;01mimport\u001b[39;00m interfaces, utils\n\u001b[1;32m     16\u001b[0m logger \u001b[38;5;241m=\u001b[39m logging\u001b[38;5;241m.\u001b[39mgetLogger(\u001b[38;5;18m__name__\u001b[39m)\n\u001b[1;32m     19\u001b[0m \u001b[38;5;28;01mclass\u001b[39;00m\u001b[38;5;250m \u001b[39m\u001b[38;5;21;01mIndexedCorpus\u001b[39;00m(interfaces\u001b[38;5;241m.\u001b[39mCorpusABC):\n",
      "File \u001b[0;32m~/miniconda3/envs/py310/lib/python3.10/site-packages/gensim/interfaces.py:19\u001b[0m\n\u001b[1;32m      7\u001b[0m \u001b[38;5;124;03m\"\"\"Basic interfaces used across the whole Gensim package.\u001b[39;00m\n\u001b[1;32m      8\u001b[0m \n\u001b[1;32m      9\u001b[0m \u001b[38;5;124;03mThese interfaces are used for building corpora, model transformation and similarity queries.\u001b[39;00m\n\u001b[0;32m   (...)\u001b[0m\n\u001b[1;32m     14\u001b[0m \n\u001b[1;32m     15\u001b[0m \u001b[38;5;124;03m\"\"\"\u001b[39;00m\n\u001b[1;32m     17\u001b[0m \u001b[38;5;28;01mimport\u001b[39;00m\u001b[38;5;250m \u001b[39m\u001b[38;5;21;01mlogging\u001b[39;00m\n\u001b[0;32m---> 19\u001b[0m \u001b[38;5;28;01mfrom\u001b[39;00m\u001b[38;5;250m \u001b[39m\u001b[38;5;21;01mgensim\u001b[39;00m\u001b[38;5;250m \u001b[39m\u001b[38;5;28;01mimport\u001b[39;00m utils, matutils\n\u001b[1;32m     22\u001b[0m logger \u001b[38;5;241m=\u001b[39m logging\u001b[38;5;241m.\u001b[39mgetLogger(\u001b[38;5;18m__name__\u001b[39m)\n\u001b[1;32m     25\u001b[0m \u001b[38;5;28;01mclass\u001b[39;00m\u001b[38;5;250m \u001b[39m\u001b[38;5;21;01mCorpusABC\u001b[39;00m(utils\u001b[38;5;241m.\u001b[39mSaveLoad):\n",
      "File \u001b[0;32m~/miniconda3/envs/py310/lib/python3.10/site-packages/gensim/matutils.py:1034\u001b[0m\n\u001b[1;32m   1029\u001b[0m     \u001b[38;5;28;01mreturn\u001b[39;00m \u001b[38;5;241m1.\u001b[39m \u001b[38;5;241m-\u001b[39m \u001b[38;5;28mfloat\u001b[39m(\u001b[38;5;28mlen\u001b[39m(set1 \u001b[38;5;241m&\u001b[39m set2)) \u001b[38;5;241m/\u001b[39m \u001b[38;5;28mfloat\u001b[39m(union_cardinality)\n\u001b[1;32m   1032\u001b[0m \u001b[38;5;28;01mtry\u001b[39;00m:\n\u001b[1;32m   1033\u001b[0m     \u001b[38;5;66;03m# try to load fast, cythonized code if possible\u001b[39;00m\n\u001b[0;32m-> 1034\u001b[0m     \u001b[38;5;28;01mfrom\u001b[39;00m\u001b[38;5;250m \u001b[39m\u001b[38;5;21;01mgensim\u001b[39;00m\u001b[38;5;21;01m.\u001b[39;00m\u001b[38;5;21;01m_matutils\u001b[39;00m\u001b[38;5;250m \u001b[39m\u001b[38;5;28;01mimport\u001b[39;00m logsumexp, mean_absolute_difference, dirichlet_expectation\n\u001b[1;32m   1036\u001b[0m \u001b[38;5;28;01mexcept\u001b[39;00m \u001b[38;5;167;01mImportError\u001b[39;00m:\n\u001b[1;32m   1037\u001b[0m     \u001b[38;5;28;01mdef\u001b[39;00m\u001b[38;5;250m \u001b[39m\u001b[38;5;21mlogsumexp\u001b[39m(x):\n",
      "File \u001b[0;32m~/miniconda3/envs/py310/lib/python3.10/site-packages/gensim/_matutils.pyx:1\u001b[0m, in \u001b[0;36minit gensim._matutils\u001b[0;34m()\u001b[0m\n",
      "\u001b[0;31mValueError\u001b[0m: numpy.dtype size changed, may indicate binary incompatibility. Expected 96 from C header, got 88 from PyObject"
     ]
    }
   ],
   "source": [
    "import sys\n",
    "import pandas as pd\n",
    "import numpy as np\n",
    "import matplotlib as plt\n",
    "import os\n",
    "import seaborn as sns\n",
    "import matplotlib.pyplot as plt\n",
    "from wordcloud import WordCloud, STOPWORDS\n",
    "import re\n",
    "from gensim.models import Word2Vec\n",
    "from wordcloud import WordCloud, STOPWORDS\n",
    "import random\n",
    "from sklearn.feature_extraction.text import CountVectorizer, TfidfVectorizer\n",
    "from nltk.stem.porter import PorterStemmer\n",
    "import unicodedata\n",
    "from num2words import num2words"
   ]
  },
  {
   "cell_type": "code",
   "execution_count": null,
   "metadata": {
    "id": "hqibiYKAE_ta"
   },
   "outputs": [],
   "source": [
    "## to load custom libraries\n",
    "#sys.path.append(WORKING_PATH)\n",
    "\n",
    "# load custom libraries"
   ]
  },
  {
   "cell_type": "code",
   "execution_count": null,
   "metadata": {
    "colab": {
     "base_uri": "https://localhost:8080/"
    },
    "executionInfo": {
     "elapsed": 1320,
     "status": "ok",
     "timestamp": 1750443177597,
     "user": {
      "displayName": "Miguel Angel Pardo",
      "userId": "16900940354237523056"
     },
     "user_tz": -120
    },
    "id": "Pyct7ps9okI1",
    "outputId": "654482b2-3ab9-4444-be88-29eacbb6ca90"
   },
   "outputs": [
    {
     "data": {
      "text/plain": [
       "(13272, 9)"
      ]
     },
     "execution_count": 6,
     "metadata": {},
     "output_type": "execute_result"
    }
   ],
   "source": [
    "# Read data\n",
    "df = pd.read_json('reviews_Patio_Lawn_and_Garden_5.json', lines=True)\n",
    "df.shape"
   ]
  },
  {
   "cell_type": "markdown",
   "metadata": {
    "id": "3v-zaPwBsOTQ"
   },
   "source": [
    "## EDA"
   ]
  },
  {
   "cell_type": "code",
   "execution_count": null,
   "metadata": {
    "colab": {
     "base_uri": "https://localhost:8080/",
     "height": 366
    },
    "executionInfo": {
     "elapsed": 384,
     "status": "ok",
     "timestamp": 1750443177981,
     "user": {
      "displayName": "Miguel Angel Pardo",
      "userId": "16900940354237523056"
     },
     "user_tz": -120
    },
    "id": "UJnHG8GbpN5_",
    "outputId": "7d14ee1e-1d5f-446f-a751-c7fa66060d7c"
   },
   "outputs": [
    {
     "data": {
      "application/vnd.google.colaboratory.intrinsic+json": {
       "summary": "{\n  \"name\": \"df\",\n  \"rows\": 13272,\n  \"fields\": [\n    {\n      \"column\": \"reviewerID\",\n      \"properties\": {\n        \"dtype\": \"category\",\n        \"num_unique_values\": 1686,\n        \"samples\": [\n          \"A3U2P6DIHN5S59\",\n          \"AHPV4F8IVSC39\",\n          \"A3ECRGWV262FKV\"\n        ],\n        \"semantic_type\": \"\",\n        \"description\": \"\"\n      }\n    },\n    {\n      \"column\": \"asin\",\n      \"properties\": {\n        \"dtype\": \"category\",\n        \"num_unique_values\": 962,\n        \"samples\": [\n          \"B000RYL1BQ\",\n          \"B000WEMH3C\",\n          \"B000SP2JLU\"\n        ],\n        \"semantic_type\": \"\",\n        \"description\": \"\"\n      }\n    },\n    {\n      \"column\": \"reviewerName\",\n      \"properties\": {\n        \"dtype\": \"category\",\n        \"num_unique_values\": 1672,\n        \"samples\": [\n          \"John Hillestad\",\n          \"Lfmiller\",\n          \"Joan W. Johnson \\\"average reader\\\"\"\n        ],\n        \"semantic_type\": \"\",\n        \"description\": \"\"\n      }\n    },\n    {\n      \"column\": \"helpful\",\n      \"properties\": {\n        \"dtype\": \"object\",\n        \"semantic_type\": \"\",\n        \"description\": \"\"\n      }\n    },\n    {\n      \"column\": \"reviewText\",\n      \"properties\": {\n        \"dtype\": \"string\",\n        \"num_unique_values\": 13254,\n        \"samples\": [\n          \"It looks a lot nicer than it really is. It doesn't fit an ordinary size bucket so I had to go buy a bigger one...\",\n          \"This review applies to ALL Miracle-Gro brand fertilizer-feeders, includingMiracle-Gro 100410 Lawn and Garden FeederMiracle-Gro 101411 LiquaFeed Starter KitMiracle-Gro 101411 LiquaFeed All Purpose Plant Feeding SystemandMiracle-Gro 100511 LiquaFeed Advance Starter KitI totally agree with ALL of you who have posted on the \\\"rip-off\\\" index of these products. My \\\"other half\\\" bought these one of each type at local home improvement warehouse on two different occasions thinking how easy it would be to use. She did not realize how EXPENSIVE it would be for the LiquaFeed Kits, it just looked EASY. Not only are the refill cartridges costly, the things LEAK, don't dispense evenly and is basically garbage! (Maybe she has learned on 2nd time around, then again ... )Miracle-Gro bulk granular water soluble fertilizers of various types are great! I have never burned any plants with them (see note below) and have healthy excellent looking flowers, plants and few veggies. But Miracle-Gro equipment is JUNK, including this item and Miracle Gro Lawn & Garden Feeder Miracle-Gro 100410 Lawn and Garden Feeder.  They are made of BRITTLE plastic, as I stated LEAK, do not mix & dispense fertilizer well, and break easily.AVOID these products.( NOTE: I do apply in cool of morning or after sunset here in HOT central Texas, and after going around fertilizing ALL plants, come back and \\\"mist off\\\" any fertilizer that may still be too concentrated on leaves and water plants. )\",\n          \"Have always had a problem with large birds pigging out on the bird feeder that we retired several years ago.  When you are buying a 40 lb. bag of bird seed every several weeks you know it's out of control.  We miss having a feeder in our back yard....The Perky-Pet 336 has at least for now reduced seed consumption by a huge margin.  Large birds like doves etc...shut down the openings while the little ones can enjoy!  Had to adjust the springs so it would take a lighter weight to shut it down, we do not have a squirrel problem.  Bought a five lb. bag of seed at the grocery store, the feeder took less than half to fill and it's lasting like I can't believe!  The larger birds feed off the seed than falls to the ground under the feeder.  So, for us, this really provides the enjoyment of the birds while keeping bankruptcy at bay!  Hope you enjoy feeding the birds as much as we do.....I would recommend this product on our very favorable use.\"\n        ],\n        \"semantic_type\": \"\",\n        \"description\": \"\"\n      }\n    },\n    {\n      \"column\": \"overall\",\n      \"properties\": {\n        \"dtype\": \"number\",\n        \"std\": 1,\n        \"min\": 1,\n        \"max\": 5,\n        \"num_unique_values\": 5,\n        \"samples\": [\n          5,\n          1,\n          2\n        ],\n        \"semantic_type\": \"\",\n        \"description\": \"\"\n      }\n    },\n    {\n      \"column\": \"summary\",\n      \"properties\": {\n        \"dtype\": \"string\",\n        \"num_unique_values\": 12178,\n        \"samples\": [\n          \"Tailoring your Soil to your Plant\",\n          \"QUALITY CHAIN REPLACEMENT\",\n          \"Does it work? Doesn't work with rechargeable batteries\"\n        ],\n        \"semantic_type\": \"\",\n        \"description\": \"\"\n      }\n    },\n    {\n      \"column\": \"unixReviewTime\",\n      \"properties\": {\n        \"dtype\": \"number\",\n        \"std\": 47098392,\n        \"min\": 954892800,\n        \"max\": 1405987200,\n        \"num_unique_values\": 1888,\n        \"samples\": [\n          1305158400,\n          1341964800,\n          1267401600\n        ],\n        \"semantic_type\": \"\",\n        \"description\": \"\"\n      }\n    },\n    {\n      \"column\": \"reviewTime\",\n      \"properties\": {\n        \"dtype\": \"object\",\n        \"num_unique_values\": 1888,\n        \"samples\": [\n          \"05 12, 2011\",\n          \"07 11, 2012\",\n          \"03 1, 2010\"\n        ],\n        \"semantic_type\": \"\",\n        \"description\": \"\"\n      }\n    }\n  ]\n}",
       "type": "dataframe",
       "variable_name": "df"
      },
      "text/html": [
       "\n",
       "  <div id=\"df-614cdd74-e246-4611-b071-c9fa78d920c1\" class=\"colab-df-container\">\n",
       "    <div>\n",
       "<style scoped>\n",
       "    .dataframe tbody tr th:only-of-type {\n",
       "        vertical-align: middle;\n",
       "    }\n",
       "\n",
       "    .dataframe tbody tr th {\n",
       "        vertical-align: top;\n",
       "    }\n",
       "\n",
       "    .dataframe thead th {\n",
       "        text-align: right;\n",
       "    }\n",
       "</style>\n",
       "<table border=\"1\" class=\"dataframe\">\n",
       "  <thead>\n",
       "    <tr style=\"text-align: right;\">\n",
       "      <th></th>\n",
       "      <th>0</th>\n",
       "      <th>1</th>\n",
       "      <th>2</th>\n",
       "      <th>3</th>\n",
       "      <th>4</th>\n",
       "    </tr>\n",
       "  </thead>\n",
       "  <tbody>\n",
       "    <tr>\n",
       "      <th>reviewerID</th>\n",
       "      <td>A1JZFGZEZVWQPY</td>\n",
       "      <td>A32JCI4AK2JTTG</td>\n",
       "      <td>A3N0P5AAMP6XD2</td>\n",
       "      <td>A2QK7UNJ857YG</td>\n",
       "      <td>AS0CYBAN6EM06</td>\n",
       "    </tr>\n",
       "    <tr>\n",
       "      <th>asin</th>\n",
       "      <td>B00002N674</td>\n",
       "      <td>B00002N674</td>\n",
       "      <td>B00002N674</td>\n",
       "      <td>B00002N674</td>\n",
       "      <td>B00002N674</td>\n",
       "    </tr>\n",
       "    <tr>\n",
       "      <th>reviewerName</th>\n",
       "      <td>Carter H \"1amazonreviewer@gmail . com\"</td>\n",
       "      <td>Darryl Bennett \"Fuzzy342\"</td>\n",
       "      <td>H B</td>\n",
       "      <td>Jason</td>\n",
       "      <td>jimmy</td>\n",
       "    </tr>\n",
       "    <tr>\n",
       "      <th>helpful</th>\n",
       "      <td>[4, 4]</td>\n",
       "      <td>[0, 0]</td>\n",
       "      <td>[2, 3]</td>\n",
       "      <td>[0, 0]</td>\n",
       "      <td>[1, 1]</td>\n",
       "    </tr>\n",
       "    <tr>\n",
       "      <th>reviewText</th>\n",
       "      <td>Good USA company that stands behind their prod...</td>\n",
       "      <td>This is a high quality 8 ply hose. I have had ...</td>\n",
       "      <td>It's probably one of the best hoses I've ever ...</td>\n",
       "      <td>I probably should have bought something a bit ...</td>\n",
       "      <td>I bought three of these 5/8-inch Flexogen hose...</td>\n",
       "    </tr>\n",
       "    <tr>\n",
       "      <th>overall</th>\n",
       "      <td>4</td>\n",
       "      <td>5</td>\n",
       "      <td>4</td>\n",
       "      <td>5</td>\n",
       "      <td>5</td>\n",
       "    </tr>\n",
       "    <tr>\n",
       "      <th>summary</th>\n",
       "      <td>Great Hoses</td>\n",
       "      <td>Gilmour 10-58050 8-ply Flexogen Hose 5/8-Inch ...</td>\n",
       "      <td>Very satisfied!</td>\n",
       "      <td>Very high quality</td>\n",
       "      <td>Good Hoses</td>\n",
       "    </tr>\n",
       "    <tr>\n",
       "      <th>unixReviewTime</th>\n",
       "      <td>1308614400</td>\n",
       "      <td>1402272000</td>\n",
       "      <td>1336176000</td>\n",
       "      <td>1373846400</td>\n",
       "      <td>1375660800</td>\n",
       "    </tr>\n",
       "    <tr>\n",
       "      <th>reviewTime</th>\n",
       "      <td>06 21, 2011</td>\n",
       "      <td>06 9, 2014</td>\n",
       "      <td>05 5, 2012</td>\n",
       "      <td>07 15, 2013</td>\n",
       "      <td>08 5, 2013</td>\n",
       "    </tr>\n",
       "  </tbody>\n",
       "</table>\n",
       "</div>\n",
       "    <div class=\"colab-df-buttons\">\n",
       "\n",
       "  <div class=\"colab-df-container\">\n",
       "    <button class=\"colab-df-convert\" onclick=\"convertToInteractive('df-614cdd74-e246-4611-b071-c9fa78d920c1')\"\n",
       "            title=\"Convert this dataframe to an interactive table.\"\n",
       "            style=\"display:none;\">\n",
       "\n",
       "  <svg xmlns=\"http://www.w3.org/2000/svg\" height=\"24px\" viewBox=\"0 -960 960 960\">\n",
       "    <path d=\"M120-120v-720h720v720H120Zm60-500h600v-160H180v160Zm220 220h160v-160H400v160Zm0 220h160v-160H400v160ZM180-400h160v-160H180v160Zm440 0h160v-160H620v160ZM180-180h160v-160H180v160Zm440 0h160v-160H620v160Z\"/>\n",
       "  </svg>\n",
       "    </button>\n",
       "\n",
       "  <style>\n",
       "    .colab-df-container {\n",
       "      display:flex;\n",
       "      gap: 12px;\n",
       "    }\n",
       "\n",
       "    .colab-df-convert {\n",
       "      background-color: #E8F0FE;\n",
       "      border: none;\n",
       "      border-radius: 50%;\n",
       "      cursor: pointer;\n",
       "      display: none;\n",
       "      fill: #1967D2;\n",
       "      height: 32px;\n",
       "      padding: 0 0 0 0;\n",
       "      width: 32px;\n",
       "    }\n",
       "\n",
       "    .colab-df-convert:hover {\n",
       "      background-color: #E2EBFA;\n",
       "      box-shadow: 0px 1px 2px rgba(60, 64, 67, 0.3), 0px 1px 3px 1px rgba(60, 64, 67, 0.15);\n",
       "      fill: #174EA6;\n",
       "    }\n",
       "\n",
       "    .colab-df-buttons div {\n",
       "      margin-bottom: 4px;\n",
       "    }\n",
       "\n",
       "    [theme=dark] .colab-df-convert {\n",
       "      background-color: #3B4455;\n",
       "      fill: #D2E3FC;\n",
       "    }\n",
       "\n",
       "    [theme=dark] .colab-df-convert:hover {\n",
       "      background-color: #434B5C;\n",
       "      box-shadow: 0px 1px 3px 1px rgba(0, 0, 0, 0.15);\n",
       "      filter: drop-shadow(0px 1px 2px rgba(0, 0, 0, 0.3));\n",
       "      fill: #FFFFFF;\n",
       "    }\n",
       "  </style>\n",
       "\n",
       "    <script>\n",
       "      const buttonEl =\n",
       "        document.querySelector('#df-614cdd74-e246-4611-b071-c9fa78d920c1 button.colab-df-convert');\n",
       "      buttonEl.style.display =\n",
       "        google.colab.kernel.accessAllowed ? 'block' : 'none';\n",
       "\n",
       "      async function convertToInteractive(key) {\n",
       "        const element = document.querySelector('#df-614cdd74-e246-4611-b071-c9fa78d920c1');\n",
       "        const dataTable =\n",
       "          await google.colab.kernel.invokeFunction('convertToInteractive',\n",
       "                                                    [key], {});\n",
       "        if (!dataTable) return;\n",
       "\n",
       "        const docLinkHtml = 'Like what you see? Visit the ' +\n",
       "          '<a target=\"_blank\" href=https://colab.research.google.com/notebooks/data_table.ipynb>data table notebook</a>'\n",
       "          + ' to learn more about interactive tables.';\n",
       "        element.innerHTML = '';\n",
       "        dataTable['output_type'] = 'display_data';\n",
       "        await google.colab.output.renderOutput(dataTable, element);\n",
       "        const docLink = document.createElement('div');\n",
       "        docLink.innerHTML = docLinkHtml;\n",
       "        element.appendChild(docLink);\n",
       "      }\n",
       "    </script>\n",
       "  </div>\n",
       "\n",
       "\n",
       "    <div id=\"df-facbc001-3865-404a-a059-b5a71efa037c\">\n",
       "      <button class=\"colab-df-quickchart\" onclick=\"quickchart('df-facbc001-3865-404a-a059-b5a71efa037c')\"\n",
       "                title=\"Suggest charts\"\n",
       "                style=\"display:none;\">\n",
       "\n",
       "<svg xmlns=\"http://www.w3.org/2000/svg\" height=\"24px\"viewBox=\"0 0 24 24\"\n",
       "     width=\"24px\">\n",
       "    <g>\n",
       "        <path d=\"M19 3H5c-1.1 0-2 .9-2 2v14c0 1.1.9 2 2 2h14c1.1 0 2-.9 2-2V5c0-1.1-.9-2-2-2zM9 17H7v-7h2v7zm4 0h-2V7h2v10zm4 0h-2v-4h2v4z\"/>\n",
       "    </g>\n",
       "</svg>\n",
       "      </button>\n",
       "\n",
       "<style>\n",
       "  .colab-df-quickchart {\n",
       "      --bg-color: #E8F0FE;\n",
       "      --fill-color: #1967D2;\n",
       "      --hover-bg-color: #E2EBFA;\n",
       "      --hover-fill-color: #174EA6;\n",
       "      --disabled-fill-color: #AAA;\n",
       "      --disabled-bg-color: #DDD;\n",
       "  }\n",
       "\n",
       "  [theme=dark] .colab-df-quickchart {\n",
       "      --bg-color: #3B4455;\n",
       "      --fill-color: #D2E3FC;\n",
       "      --hover-bg-color: #434B5C;\n",
       "      --hover-fill-color: #FFFFFF;\n",
       "      --disabled-bg-color: #3B4455;\n",
       "      --disabled-fill-color: #666;\n",
       "  }\n",
       "\n",
       "  .colab-df-quickchart {\n",
       "    background-color: var(--bg-color);\n",
       "    border: none;\n",
       "    border-radius: 50%;\n",
       "    cursor: pointer;\n",
       "    display: none;\n",
       "    fill: var(--fill-color);\n",
       "    height: 32px;\n",
       "    padding: 0;\n",
       "    width: 32px;\n",
       "  }\n",
       "\n",
       "  .colab-df-quickchart:hover {\n",
       "    background-color: var(--hover-bg-color);\n",
       "    box-shadow: 0 1px 2px rgba(60, 64, 67, 0.3), 0 1px 3px 1px rgba(60, 64, 67, 0.15);\n",
       "    fill: var(--button-hover-fill-color);\n",
       "  }\n",
       "\n",
       "  .colab-df-quickchart-complete:disabled,\n",
       "  .colab-df-quickchart-complete:disabled:hover {\n",
       "    background-color: var(--disabled-bg-color);\n",
       "    fill: var(--disabled-fill-color);\n",
       "    box-shadow: none;\n",
       "  }\n",
       "\n",
       "  .colab-df-spinner {\n",
       "    border: 2px solid var(--fill-color);\n",
       "    border-color: transparent;\n",
       "    border-bottom-color: var(--fill-color);\n",
       "    animation:\n",
       "      spin 1s steps(1) infinite;\n",
       "  }\n",
       "\n",
       "  @keyframes spin {\n",
       "    0% {\n",
       "      border-color: transparent;\n",
       "      border-bottom-color: var(--fill-color);\n",
       "      border-left-color: var(--fill-color);\n",
       "    }\n",
       "    20% {\n",
       "      border-color: transparent;\n",
       "      border-left-color: var(--fill-color);\n",
       "      border-top-color: var(--fill-color);\n",
       "    }\n",
       "    30% {\n",
       "      border-color: transparent;\n",
       "      border-left-color: var(--fill-color);\n",
       "      border-top-color: var(--fill-color);\n",
       "      border-right-color: var(--fill-color);\n",
       "    }\n",
       "    40% {\n",
       "      border-color: transparent;\n",
       "      border-right-color: var(--fill-color);\n",
       "      border-top-color: var(--fill-color);\n",
       "    }\n",
       "    60% {\n",
       "      border-color: transparent;\n",
       "      border-right-color: var(--fill-color);\n",
       "    }\n",
       "    80% {\n",
       "      border-color: transparent;\n",
       "      border-right-color: var(--fill-color);\n",
       "      border-bottom-color: var(--fill-color);\n",
       "    }\n",
       "    90% {\n",
       "      border-color: transparent;\n",
       "      border-bottom-color: var(--fill-color);\n",
       "    }\n",
       "  }\n",
       "</style>\n",
       "\n",
       "      <script>\n",
       "        async function quickchart(key) {\n",
       "          const quickchartButtonEl =\n",
       "            document.querySelector('#' + key + ' button');\n",
       "          quickchartButtonEl.disabled = true;  // To prevent multiple clicks.\n",
       "          quickchartButtonEl.classList.add('colab-df-spinner');\n",
       "          try {\n",
       "            const charts = await google.colab.kernel.invokeFunction(\n",
       "                'suggestCharts', [key], {});\n",
       "          } catch (error) {\n",
       "            console.error('Error during call to suggestCharts:', error);\n",
       "          }\n",
       "          quickchartButtonEl.classList.remove('colab-df-spinner');\n",
       "          quickchartButtonEl.classList.add('colab-df-quickchart-complete');\n",
       "        }\n",
       "        (() => {\n",
       "          let quickchartButtonEl =\n",
       "            document.querySelector('#df-facbc001-3865-404a-a059-b5a71efa037c button');\n",
       "          quickchartButtonEl.style.display =\n",
       "            google.colab.kernel.accessAllowed ? 'block' : 'none';\n",
       "        })();\n",
       "      </script>\n",
       "    </div>\n",
       "\n",
       "    </div>\n",
       "  </div>\n"
      ],
      "text/plain": [
       "                                                                0  \\\n",
       "reviewerID                                         A1JZFGZEZVWQPY   \n",
       "asin                                                   B00002N674   \n",
       "reviewerName               Carter H \"1amazonreviewer@gmail . com\"   \n",
       "helpful                                                    [4, 4]   \n",
       "reviewText      Good USA company that stands behind their prod...   \n",
       "overall                                                         4   \n",
       "summary                                               Great Hoses   \n",
       "unixReviewTime                                         1308614400   \n",
       "reviewTime                                            06 21, 2011   \n",
       "\n",
       "                                                                1  \\\n",
       "reviewerID                                         A32JCI4AK2JTTG   \n",
       "asin                                                   B00002N674   \n",
       "reviewerName                            Darryl Bennett \"Fuzzy342\"   \n",
       "helpful                                                    [0, 0]   \n",
       "reviewText      This is a high quality 8 ply hose. I have had ...   \n",
       "overall                                                         5   \n",
       "summary         Gilmour 10-58050 8-ply Flexogen Hose 5/8-Inch ...   \n",
       "unixReviewTime                                         1402272000   \n",
       "reviewTime                                             06 9, 2014   \n",
       "\n",
       "                                                                2  \\\n",
       "reviewerID                                         A3N0P5AAMP6XD2   \n",
       "asin                                                   B00002N674   \n",
       "reviewerName                                                  H B   \n",
       "helpful                                                    [2, 3]   \n",
       "reviewText      It's probably one of the best hoses I've ever ...   \n",
       "overall                                                         4   \n",
       "summary                                           Very satisfied!   \n",
       "unixReviewTime                                         1336176000   \n",
       "reviewTime                                             05 5, 2012   \n",
       "\n",
       "                                                                3  \\\n",
       "reviewerID                                          A2QK7UNJ857YG   \n",
       "asin                                                   B00002N674   \n",
       "reviewerName                                                Jason   \n",
       "helpful                                                    [0, 0]   \n",
       "reviewText      I probably should have bought something a bit ...   \n",
       "overall                                                         5   \n",
       "summary                                         Very high quality   \n",
       "unixReviewTime                                         1373846400   \n",
       "reviewTime                                            07 15, 2013   \n",
       "\n",
       "                                                                4  \n",
       "reviewerID                                          AS0CYBAN6EM06  \n",
       "asin                                                   B00002N674  \n",
       "reviewerName                                                jimmy  \n",
       "helpful                                                    [1, 1]  \n",
       "reviewText      I bought three of these 5/8-inch Flexogen hose...  \n",
       "overall                                                         5  \n",
       "summary                                                Good Hoses  \n",
       "unixReviewTime                                         1375660800  \n",
       "reviewTime                                             08 5, 2013  "
      ]
     },
     "execution_count": 7,
     "metadata": {},
     "output_type": "execute_result"
    }
   ],
   "source": [
    "# Explore dataframe\n",
    "df.head().T"
   ]
  },
  {
   "cell_type": "code",
   "execution_count": 1,
   "metadata": {
    "colab": {
     "base_uri": "https://localhost:8080/"
    },
    "executionInfo": {
     "elapsed": 78,
     "status": "ok",
     "timestamp": 1750443178063,
     "user": {
      "displayName": "Miguel Angel Pardo",
      "userId": "16900940354237523056"
     },
     "user_tz": -120
    },
    "id": "Wz-_Lt6CsVF2",
    "outputId": "94751296-3fa1-45b2-86a7-5981954a5840"
   },
   "outputs": [
    {
     "ename": "NameError",
     "evalue": "name 'df' is not defined",
     "output_type": "error",
     "traceback": [
      "\u001b[0;31m---------------------------------------------------------------------------\u001b[0m",
      "\u001b[0;31mNameError\u001b[0m                                 Traceback (most recent call last)",
      "Cell \u001b[0;32mIn[1], line 3\u001b[0m\n\u001b[1;32m      1\u001b[0m \u001b[38;5;66;03m# Select columns reviewText and overall\u001b[39;00m\n\u001b[1;32m      2\u001b[0m \u001b[38;5;66;03m#df = df.loc[:10000, ['reviewText', 'overall']]\u001b[39;00m\n\u001b[0;32m----> 3\u001b[0m df \u001b[38;5;241m=\u001b[39m \u001b[43mdf\u001b[49m\u001b[38;5;241m.\u001b[39mloc[:, [\u001b[38;5;124m'\u001b[39m\u001b[38;5;124mreviewText\u001b[39m\u001b[38;5;124m'\u001b[39m, \u001b[38;5;124m'\u001b[39m\u001b[38;5;124moverall\u001b[39m\u001b[38;5;124m'\u001b[39m]]\n\u001b[1;32m      4\u001b[0m df\u001b[38;5;241m.\u001b[39mshape\n",
      "\u001b[0;31mNameError\u001b[0m: name 'df' is not defined"
     ]
    }
   ],
   "source": [
    "# Select columns reviewText and overall\n",
    "#df = df.loc[:10000, ['reviewText', 'overall']]\n",
    "df = df.loc[:, ['reviewText', 'overall']]\n",
    "df.shape"
   ]
  },
  {
   "cell_type": "code",
   "execution_count": null,
   "metadata": {
    "colab": {
     "base_uri": "https://localhost:8080/"
    },
    "executionInfo": {
     "elapsed": 11,
     "status": "ok",
     "timestamp": 1750443178077,
     "user": {
      "displayName": "Miguel Angel Pardo",
      "userId": "16900940354237523056"
     },
     "user_tz": -120
    },
    "id": "9xc0VCw9w5jV",
    "outputId": "56d6b673-8c74-4bce-a172-1fdae6c7e442"
   },
   "outputs": [
    {
     "name": "stdout",
     "output_type": "stream",
     "text": [
      "<class 'pandas.core.frame.DataFrame'>\n",
      "RangeIndex: 10001 entries, 0 to 10000\n",
      "Data columns (total 2 columns):\n",
      " #   Column      Non-Null Count  Dtype \n",
      "---  ------      --------------  ----- \n",
      " 0   reviewText  10001 non-null  object\n",
      " 1   overall     10001 non-null  int64 \n",
      "dtypes: int64(1), object(1)\n",
      "memory usage: 156.4+ KB\n"
     ]
    }
   ],
   "source": [
    "# Type of columns and NAs checking\n",
    "df.info()"
   ]
  },
  {
   "cell_type": "code",
   "execution_count": null,
   "metadata": {
    "colab": {
     "base_uri": "https://localhost:8080/",
     "height": 706
    },
    "executionInfo": {
     "elapsed": 681,
     "status": "ok",
     "timestamp": 1750443178761,
     "user": {
      "displayName": "Miguel Angel Pardo",
      "userId": "16900940354237523056"
     },
     "user_tz": -120
    },
    "id": "8N8_5uJftOmu",
    "outputId": "82b3e7a5-a03b-4946-d65c-5a3caf3ab452"
   },
   "outputs": [
    {
     "data": {
      "image/png": "[encoded data removed]",
      "text/plain": [
       "<Figure size 500x400 with 1 Axes>"
      ]
     },
     "metadata": {},
     "output_type": "display_data"
    },
    {
     "data": {
      "text/html": [
       "<div>\n",
       "<style scoped>\n",
       "    .dataframe tbody tr th:only-of-type {\n",
       "        vertical-align: middle;\n",
       "    }\n",
       "\n",
       "    .dataframe tbody tr th {\n",
       "        vertical-align: top;\n",
       "    }\n",
       "\n",
       "    .dataframe thead th {\n",
       "        text-align: right;\n",
       "    }\n",
       "</style>\n",
       "<table border=\"1\" class=\"dataframe\">\n",
       "  <thead>\n",
       "    <tr style=\"text-align: right;\">\n",
       "      <th></th>\n",
       "      <th>lengthText</th>\n",
       "    </tr>\n",
       "  </thead>\n",
       "  <tbody>\n",
       "    <tr>\n",
       "      <th>count</th>\n",
       "      <td>10001.000000</td>\n",
       "    </tr>\n",
       "    <tr>\n",
       "      <th>mean</th>\n",
       "      <td>801.612939</td>\n",
       "    </tr>\n",
       "    <tr>\n",
       "      <th>std</th>\n",
       "      <td>794.673680</td>\n",
       "    </tr>\n",
       "    <tr>\n",
       "      <th>min</th>\n",
       "      <td>0.000000</td>\n",
       "    </tr>\n",
       "    <tr>\n",
       "      <th>25%</th>\n",
       "      <td>284.000000</td>\n",
       "    </tr>\n",
       "    <tr>\n",
       "      <th>50%</th>\n",
       "      <td>551.000000</td>\n",
       "    </tr>\n",
       "    <tr>\n",
       "      <th>75%</th>\n",
       "      <td>1047.000000</td>\n",
       "    </tr>\n",
       "    <tr>\n",
       "      <th>max</th>\n",
       "      <td>11816.000000</td>\n",
       "    </tr>\n",
       "  </tbody>\n",
       "</table>\n",
       "</div><br><label><b>dtype:</b> float64</label>"
      ],
      "text/plain": [
       "count    10001.000000\n",
       "mean       801.612939\n",
       "std        794.673680\n",
       "min          0.000000\n",
       "25%        284.000000\n",
       "50%        551.000000\n",
       "75%       1047.000000\n",
       "max      11816.000000\n",
       "Name: lengthText, dtype: float64"
      ]
     },
     "execution_count": 10,
     "metadata": {},
     "output_type": "execute_result"
    }
   ],
   "source": [
    "# Distribution for text size\n",
    "plt.figure(figsize=(5,4))\n",
    "df['lengthText'] = df['reviewText'].apply(len)\n",
    "sns.kdeplot(df['lengthText'], fill=True, color='skyblue', alpha=0.5)\n",
    "plt.xlabel('Length')\n",
    "plt.ylabel('Density')\n",
    "plt.show()\n",
    "df['lengthText'].describe()"
   ]
  },
  {
   "cell_type": "code",
   "execution_count": null,
   "metadata": {
    "colab": {
     "base_uri": "https://localhost:8080/"
    },
    "executionInfo": {
     "elapsed": 19,
     "status": "ok",
     "timestamp": 1750443178783,
     "user": {
      "displayName": "Miguel Angel Pardo",
      "userId": "16900940354237523056"
     },
     "user_tz": -120
    },
    "id": "8PCBM8mOxXbs",
    "outputId": "47d62684-1ace-428f-9eae-e00386eb6999"
   },
   "outputs": [
    {
     "name": "stdout",
     "output_type": "stream",
     "text": [
      "Found 11 entries without text\n"
     ]
    }
   ],
   "source": [
    "# Remove entries without text\n",
    "print(f'Found {sum(df[\"lengthText\"] == 0)} entries without text')\n",
    "\n",
    "df = df[df['lengthText'] != 0]"
   ]
  },
  {
   "cell_type": "code",
   "execution_count": null,
   "metadata": {
    "colab": {
     "base_uri": "https://localhost:8080/",
     "height": 662
    },
    "executionInfo": {
     "elapsed": 532,
     "status": "ok",
     "timestamp": 1750443179318,
     "user": {
      "displayName": "Miguel Angel Pardo",
      "userId": "16900940354237523056"
     },
     "user_tz": -120
    },
    "id": "Mu9R71m7vv4y",
    "outputId": "07b9dceb-58a8-4307-fa0f-5de2f14d4848"
   },
   "outputs": [
    {
     "data": {
      "image/png": "[encoded data removed]",
      "text/plain": [
       "<Figure size 500x400 with 1 Axes>"
      ]
     },
     "metadata": {},
     "output_type": "display_data"
    },
    {
     "data": {
      "text/html": [
       "<div>\n",
       "<style scoped>\n",
       "    .dataframe tbody tr th:only-of-type {\n",
       "        vertical-align: middle;\n",
       "    }\n",
       "\n",
       "    .dataframe tbody tr th {\n",
       "        vertical-align: top;\n",
       "    }\n",
       "\n",
       "    .dataframe thead th {\n",
       "        text-align: right;\n",
       "    }\n",
       "</style>\n",
       "<table border=\"1\" class=\"dataframe\">\n",
       "  <thead>\n",
       "    <tr style=\"text-align: right;\">\n",
       "      <th></th>\n",
       "      <th>count</th>\n",
       "    </tr>\n",
       "    <tr>\n",
       "      <th>overall</th>\n",
       "      <th></th>\n",
       "    </tr>\n",
       "  </thead>\n",
       "  <tbody>\n",
       "    <tr>\n",
       "      <th>5</th>\n",
       "      <td>5504</td>\n",
       "    </tr>\n",
       "    <tr>\n",
       "      <th>4</th>\n",
       "      <td>2369</td>\n",
       "    </tr>\n",
       "    <tr>\n",
       "      <th>3</th>\n",
       "      <td>1212</td>\n",
       "    </tr>\n",
       "    <tr>\n",
       "      <th>2</th>\n",
       "      <td>504</td>\n",
       "    </tr>\n",
       "    <tr>\n",
       "      <th>1</th>\n",
       "      <td>401</td>\n",
       "    </tr>\n",
       "  </tbody>\n",
       "</table>\n",
       "</div><br><label><b>dtype:</b> int64</label>"
      ],
      "text/plain": [
       "overall\n",
       "5    5504\n",
       "4    2369\n",
       "3    1212\n",
       "2     504\n",
       "1     401\n",
       "Name: count, dtype: int64"
      ]
     },
     "execution_count": 12,
     "metadata": {},
     "output_type": "execute_result"
    }
   ],
   "source": [
    "# Distribution overall\n",
    "plt.figure(figsize=(5,4))\n",
    "counts = df['overall'].value_counts()\n",
    "counts = counts.loc[sorted(counts.index)]\n",
    "# Plot value counts as bars\n",
    "counts.plot(kind='bar', color='skyblue', edgecolor='black')\n",
    "# Customize\n",
    "plt.xlabel('Overall')\n",
    "plt.ylabel('Count')\n",
    "plt.xticks(rotation=0)\n",
    "plt.tight_layout()  # Prevent label clipping\n",
    "plt.show()\n",
    "df['overall'].value_counts()"
   ]
  },
  {
   "cell_type": "code",
   "execution_count": null,
   "metadata": {
    "colab": {
     "base_uri": "https://localhost:8080/",
     "height": 468
    },
    "executionInfo": {
     "elapsed": 546,
     "status": "ok",
     "timestamp": 1750443179867,
     "user": {
      "displayName": "Miguel Angel Pardo",
      "userId": "16900940354237523056"
     },
     "user_tz": -120
    },
    "id": "DoLSjZOi0BpZ",
    "outputId": "73ae13d1-57cf-44ec-d892-a5760969081b"
   },
   "outputs": [
    {
     "data": {
      "image/png": "[encoded data removed]",
      "text/plain": [
       "<Figure size 400x300 with 1 Axes>"
      ]
     },
     "metadata": {},
     "output_type": "display_data"
    },
    {
     "data": {
      "text/html": [
       "<div>\n",
       "<style scoped>\n",
       "    .dataframe tbody tr th:only-of-type {\n",
       "        vertical-align: middle;\n",
       "    }\n",
       "\n",
       "    .dataframe tbody tr th {\n",
       "        vertical-align: top;\n",
       "    }\n",
       "\n",
       "    .dataframe thead th {\n",
       "        text-align: right;\n",
       "    }\n",
       "</style>\n",
       "<table border=\"1\" class=\"dataframe\">\n",
       "  <thead>\n",
       "    <tr style=\"text-align: right;\">\n",
       "      <th></th>\n",
       "      <th>count</th>\n",
       "    </tr>\n",
       "    <tr>\n",
       "      <th>sentiment</th>\n",
       "      <th></th>\n",
       "    </tr>\n",
       "  </thead>\n",
       "  <tbody>\n",
       "    <tr>\n",
       "      <th>1</th>\n",
       "      <td>7873</td>\n",
       "    </tr>\n",
       "    <tr>\n",
       "      <th>0</th>\n",
       "      <td>2117</td>\n",
       "    </tr>\n",
       "  </tbody>\n",
       "</table>\n",
       "</div><br><label><b>dtype:</b> int64</label>"
      ],
      "text/plain": [
       "sentiment\n",
       "1    7873\n",
       "0    2117\n",
       "Name: count, dtype: int64"
      ]
     },
     "execution_count": 13,
     "metadata": {},
     "output_type": "execute_result"
    }
   ],
   "source": [
    "# Classify overall into negative sentiment (0) and positive sentiment (1)\n",
    "df['sentiment'] = df['overall'].apply(lambda x: 0 if x < 4 else 1)\n",
    "\n",
    "# Distribution\n",
    "plt.figure(figsize=(4,3))\n",
    "counts = df['sentiment'].value_counts()\n",
    "counts = counts.loc[sorted(counts.index)]\n",
    "# Plot value counts as bars\n",
    "counts.plot(kind='bar', color='skyblue', edgecolor='black')\n",
    "# Customize\n",
    "plt.xlabel('')\n",
    "plt.ylabel('Count')\n",
    "plt.xticks(rotation=0)\n",
    "plt.tight_layout()  # Prevent label clipping\n",
    "plt.show()\n",
    "df['sentiment'].value_counts()\n"
   ]
  },
  {
   "cell_type": "code",
   "execution_count": null,
   "metadata": {
    "colab": {
     "base_uri": "https://localhost:8080/",
     "height": 1000
    },
    "executionInfo": {
     "elapsed": 42598,
     "status": "ok",
     "timestamp": 1750448532569,
     "user": {
      "displayName": "Miguel Angel Pardo",
      "userId": "16900940354237523056"
     },
     "user_tz": -120
    },
    "id": "JHTY1uLBSRNS",
    "outputId": "e538376c-2e43-48cd-e3e0-1ef54453f6d4"
   },
   "outputs": [
    {
     "data": {
      "image/png": "[encoded data removed]",
      "text/plain": [
       "<Figure size 640x480 with 1 Axes>"
      ]
     },
     "metadata": {},
     "output_type": "display_data"
    },
    {
     "name": "stdout",
     "output_type": "stream",
     "text": [
      "\n",
      "Vocabulary size before processing: 77172\n",
      "Vocabulary size after processing: 15905\n",
      "\n",
      "Top 10 most frequent unigrams\n",
      "3971\ttime\n",
      "4095\tfeeder\n",
      "4095\twell\n",
      "4098\tproduct\n",
      "5520\twill\n",
      "5662\ttwo\n",
      "6141\twork\n",
      "6150\ttrap\n",
      "9813\tone\n",
      "11700\tuse\n",
      "\n",
      "Top 10 most frequent bigrams\n",
      "457\tpeanut butter\n",
      "508\tbird feeder\n",
      "513\teasi use\n",
      "515\tone hundred\n",
      "552\tthousand and\n",
      "593\twork great\n",
      "604\ttwo hundred\n",
      "847\tthirty four\n",
      "945\twork well\n",
      "1325\thundred and\n",
      "\n",
      "Some examples\n",
      "\n",
      "Having had a number of rotary and oscillating sprinklers that stopped working, I was attracted to this product because it has no moving parts to fail. So it works and keeps on working. The design is tried and true--my grandmother used a round variant of this sprinkler almost daily for many years decades ago.A couple of tips.  I take it off the hose and let the sprinkler dry when done, because the interior rusts (not sure the rust hurts anything).  Also, cast iron is somewhat brittle, so I don't let it fall on any hard surfaces--my grandmother knocked off a chunk of her sprinkler this way, although it kept on working for ages after that regardless.\n",
      "number rotari oscil sprinkler stop work attract product move part fail work keep work design tri true grandmoth use round variant sprinkler almost daili mani year decad ago coupl tip take hose let sprinkler dri done interior rust sure rust hurt anyth cast iron somewhat brittl let fall hard surfac grandmoth knock chunk sprinkler way although kept work age regardless\n",
      "\n",
      "Perfect product for a successful drip line garden watering system. I have a complete &#34;water smart watered yard and I i=use this product exclusively.\n",
      "perfect product success drip line garden water system complet thirty-four water smart water yard use product exclus\n",
      "\n",
      "The Cobraco Horse Campfire Ring is a great product. It is portable, light and easy to assemble. The horse motif which is cut out around the perimeter of the ring is very attractive and gives one the feeling of an old-time campfire in the wild west. We put ours in the side yard where we like to hang out during the summer months. While the ring is lightweight it is surprisingly sturdy. I was wondering if the brisk winds that came up would flip it over, but alas, it stayed in place and didn't budge.I highly recommend this campfire ring. It will be great all throughout the year. When I'm done using it (after it has cooled down) I can just take it apart and store it in the shed until the next time we want to roast marshmallows or have a yard party. I also plan on taking it with me when I go on road trips this summer. Be it to the beach, mountains, or the lake this campfire ring will be a perfect addition to my summer travels.\n",
      "cobraco hors campfir ring great product portabl light easi assembl hors motif cut around perimet ring attract give one feel old time campfir wild west put side yard hang summer month ring lightweight surprisingli sturdi wonder brisk wind came flip ala stay place budg highli recommend campfir ring will great throughout year done use cool take apart store shed next time want roast marshmallow yard parti plan take go road trip summer beach mountain lake campfir ring will perfect addit summer travel\n",
      "\n",
      "A must in an indoor garden. I get very good production with this bulb.I use nothing but ipower in my garden setup.I've never had any kind of issues with their products.\n",
      "must indoor garden good product bulb use noth ipow garden setup never kind issu product\n",
      "\n",
      "It's really hard to review something like this off season. Great idea. I was wondering if it would be hard for me with my arthritic hand, but no, they are easy to open and close. The color might be a little too bright; I'd add a touch of grey to the color. These are easy to secure, but I hope not too easy to come unfastened. I'll edit this later in the year when they really get tested.\n",
      "realli hard review someth season great idea wonder hard arthrit hand easi open close color might littl bright add touch grey color easi secur hope easi come unfasten edit later year realli test\n"
     ]
    }
   ],
   "source": [
    "# Normalize texts\n",
    "# To lowercase\n",
    "df['reviewTextProc'] = df['reviewText'].str.lower()\n",
    "# Remove \"strange\" characters\n",
    "df['reviewTextProc'] = df['reviewTextProc'].apply(lambda x: unicodedata.normalize('NFKD', x).encode('ascii', 'ignore').decode('utf-8', 'ignore'))\n",
    "# Remove punctuation. Only words, spaces and ' are kept. Keep ' is important for removing stopwords step.\n",
    "df['reviewTextProc'] = df['reviewTextProc'].apply(lambda x: re.sub(r\"[^a-z0-9']\", ' ', x))\n",
    "# Remove one letter words\n",
    "df['reviewTextProc'] = df['reviewTextProc'].apply(lambda x: re.sub(r\" [a-z] \", ' ', x))\n",
    "# Remove stopwords\n",
    "df['reviewTextProc'] = df['reviewTextProc'].apply(lambda x: ' '.join([word for word in x.split() if word not in STOPWORDS]))\n",
    "# Remove punctuation. Remove '.\n",
    "df['reviewTextProc'] = df['reviewTextProc'].apply(lambda x: re.sub(r\"'\", '', x))\n",
    "# Stemming\n",
    "stemmer = PorterStemmer()\n",
    "df['reviewTextProc'] = df['reviewTextProc'].apply(lambda x: ' '.join([PorterStemmer().stem(w) for w in x.split()]))\n",
    "# Transform numbers to words\n",
    "df['reviewTextProc'] = df['reviewTextProc'].apply(lambda x: ' '.join([word if not word.isdigit() else num2words(word, ordinal=False) for word in x.split(' ')]))\n",
    "\n",
    "# wordcloud\n",
    "combined_text_proc = \" \".join(df.loc[:, 'reviewTextProc'])\n",
    "wc = WordCloud(background_color='white', max_words=50)\n",
    "\n",
    "plt.imshow(wc.generate(combined_text_proc))\n",
    "plt.axis('off')\n",
    "plt.show()\n",
    "\n",
    "# size vocabulary\n",
    "combined_text = \" \".join(df.loc[:, 'reviewText'])\n",
    "list_words = combined_text.split()\n",
    "unique_words = set(list_words)\n",
    "print(f'\\nVocabulary size before processing: {len(unique_words)}')\n",
    "list_words = combined_text_proc.split()\n",
    "unique_words = set(list_words)\n",
    "print(f'Vocabulary size after processing: {len(unique_words)}')\n",
    "\n",
    "# unigrams analysis\n",
    "print('\\nTop 10 most frequent unigrams')\n",
    "countUni = CountVectorizer(ngram_range=(1, 1))\n",
    "totalCountUni = countUni.fit_transform(df.loc[:,'reviewTextProc']).sum(axis=0)\n",
    "\n",
    "top_indices = np.argsort(totalCountUni)[0, -10:][::-1].tolist()[0]\n",
    "top_values = totalCountUni[0, top_indices].tolist()[0]\n",
    "\n",
    "for idx, val in zip(top_indices, top_values):\n",
    "    print(f\"{val}\\t{countUni.get_feature_names_out()[idx]}\")\n",
    "\n",
    "# bigrams analysis\n",
    "print('\\nTop 10 most frequent bigrams')\n",
    "countBi = CountVectorizer(ngram_range=(2, 2))\n",
    "totalCountBi = countBi.fit_transform(df.loc[:,'reviewTextProc']).sum(axis=0)\n",
    "\n",
    "top_indices = np.argsort(totalCountBi)[0, -10:][::-1].tolist()[0]\n",
    "top_values = totalCountBi[0, top_indices].tolist()[0]\n",
    "\n",
    "for idx, val in zip(top_indices, top_values):\n",
    "    print(f\"{val}\\t{countBi.get_feature_names_out()[idx]}\")\n",
    "\n",
    "# some examples\n",
    "print('\\nSome examples')\n",
    "idx_examples = random.sample(df.index.tolist(),5)\n",
    "for idx in idx_examples:\n",
    "  print(f'\\n{df.loc[idx, \"reviewText\"]}')\n",
    "  print(df.loc[idx, 'reviewTextProc'])"
   ]
  },
  {
   "cell_type": "code",
   "execution_count": null,
   "metadata": {
    "colab": {
     "base_uri": "https://localhost:8080/",
     "height": 706
    },
    "executionInfo": {
     "elapsed": 572,
     "status": "ok",
     "timestamp": 1750446971362,
     "user": {
      "displayName": "Miguel Angel Pardo",
      "userId": "16900940354237523056"
     },
     "user_tz": -120
    },
    "id": "BQul9-5PuzDl",
    "outputId": "0b1932e7-b463-4a10-c102-9b25dbf0c6db"
   },
   "outputs": [
    {
     "data": {
      "image/png": "[encoded data removed]",
      "text/plain": [
       "<Figure size 500x400 with 1 Axes>"
      ]
     },
     "metadata": {},
     "output_type": "display_data"
    },
    {
     "data": {
      "text/html": [
       "<div>\n",
       "<style scoped>\n",
       "    .dataframe tbody tr th:only-of-type {\n",
       "        vertical-align: middle;\n",
       "    }\n",
       "\n",
       "    .dataframe tbody tr th {\n",
       "        vertical-align: top;\n",
       "    }\n",
       "\n",
       "    .dataframe thead th {\n",
       "        text-align: right;\n",
       "    }\n",
       "</style>\n",
       "<table border=\"1\" class=\"dataframe\">\n",
       "  <thead>\n",
       "    <tr style=\"text-align: right;\">\n",
       "      <th></th>\n",
       "      <th>numWords</th>\n",
       "    </tr>\n",
       "  </thead>\n",
       "  <tbody>\n",
       "    <tr>\n",
       "      <th>count</th>\n",
       "      <td>9990.000000</td>\n",
       "    </tr>\n",
       "    <tr>\n",
       "      <th>mean</th>\n",
       "      <td>74.687187</td>\n",
       "    </tr>\n",
       "    <tr>\n",
       "      <th>std</th>\n",
       "      <td>75.027331</td>\n",
       "    </tr>\n",
       "    <tr>\n",
       "      <th>min</th>\n",
       "      <td>1.000000</td>\n",
       "    </tr>\n",
       "    <tr>\n",
       "      <th>25%</th>\n",
       "      <td>27.000000</td>\n",
       "    </tr>\n",
       "    <tr>\n",
       "      <th>50%</th>\n",
       "      <td>51.000000</td>\n",
       "    </tr>\n",
       "    <tr>\n",
       "      <th>75%</th>\n",
       "      <td>96.000000</td>\n",
       "    </tr>\n",
       "    <tr>\n",
       "      <th>max</th>\n",
       "      <td>1108.000000</td>\n",
       "    </tr>\n",
       "  </tbody>\n",
       "</table>\n",
       "</div><br><label><b>dtype:</b> float64</label>"
      ],
      "text/plain": [
       "count    9990.000000\n",
       "mean       74.687187\n",
       "std        75.027331\n",
       "min         1.000000\n",
       "25%        27.000000\n",
       "50%        51.000000\n",
       "75%        96.000000\n",
       "max      1108.000000\n",
       "Name: numWords, dtype: float64"
      ]
     },
     "execution_count": 48,
     "metadata": {},
     "output_type": "execute_result"
    }
   ],
   "source": [
    "# Distribution of the number of words for each review\n",
    "plt.figure(figsize=(5,4))\n",
    "df['numWords'] = df['reviewTextProc'].apply(lambda x: len(x.split()))\n",
    "sns.kdeplot(df['numWords'], fill=True, color='skyblue', alpha=0.5)\n",
    "plt.xlabel('Number of words')\n",
    "plt.ylabel('Density')\n",
    "plt.show()\n",
    "df['numWords'].describe()"
   ]
  },
  {
   "cell_type": "code",
   "execution_count": null,
   "metadata": {
    "colab": {
     "base_uri": "https://localhost:8080/",
     "height": 237
    },
    "executionInfo": {
     "elapsed": 16,
     "status": "ok",
     "timestamp": 1750449024952,
     "user": {
      "displayName": "Miguel Angel Pardo",
      "userId": "16900940354237523056"
     },
     "user_tz": -120
    },
    "id": "gerFuaRk4hfg",
    "outputId": "3d7c3bbd-6e49-4a30-b317-6d5f930231fa"
   },
   "outputs": [
    {
     "data": {
      "application/vnd.google.colaboratory.intrinsic+json": {
       "summary": "{\n  \"name\": \"df[df['numWords'] == 1]\",\n  \"rows\": 6,\n  \"fields\": [\n    {\n      \"column\": \"reviewText\",\n      \"properties\": {\n        \"dtype\": \"string\",\n        \"num_unique_values\": 6,\n        \"samples\": [\n          \"GOOD\",\n          \"NICE\",\n          \"PRETTY\"\n        ],\n        \"semantic_type\": \"\",\n        \"description\": \"\"\n      }\n    },\n    {\n      \"column\": \"overall\",\n      \"properties\": {\n        \"dtype\": \"number\",\n        \"std\": 1,\n        \"min\": 2,\n        \"max\": 5,\n        \"num_unique_values\": 4,\n        \"samples\": [\n          2,\n          5,\n          4\n        ],\n        \"semantic_type\": \"\",\n        \"description\": \"\"\n      }\n    },\n    {\n      \"column\": \"lengthText\",\n      \"properties\": {\n        \"dtype\": \"number\",\n        \"std\": 4,\n        \"min\": 4,\n        \"max\": 13,\n        \"num_unique_values\": 5,\n        \"samples\": [\n          5,\n          6,\n          13\n        ],\n        \"semantic_type\": \"\",\n        \"description\": \"\"\n      }\n    },\n    {\n      \"column\": \"sentiment\",\n      \"properties\": {\n        \"dtype\": \"number\",\n        \"std\": 0,\n        \"min\": 0,\n        \"max\": 1,\n        \"num_unique_values\": 2,\n        \"samples\": [\n          0,\n          1\n        ],\n        \"semantic_type\": \"\",\n        \"description\": \"\"\n      }\n    },\n    {\n      \"column\": \"reviewTextProc\",\n      \"properties\": {\n        \"dtype\": \"string\",\n        \"num_unique_values\": 6,\n        \"samples\": [\n          \"good\",\n          \"nice\"\n        ],\n        \"semantic_type\": \"\",\n        \"description\": \"\"\n      }\n    },\n    {\n      \"column\": \"numWords\",\n      \"properties\": {\n        \"dtype\": \"number\",\n        \"std\": 0,\n        \"min\": 1,\n        \"max\": 1,\n        \"num_unique_values\": 1,\n        \"samples\": [\n          1\n        ],\n        \"semantic_type\": \"\",\n        \"description\": \"\"\n      }\n    }\n  ]\n}",
       "type": "dataframe"
      },
      "text/html": [
       "\n",
       "  <div id=\"df-ccf621e4-62a0-4632-8fe7-6bb8cfb9b49a\" class=\"colab-df-container\">\n",
       "    <div>\n",
       "<style scoped>\n",
       "    .dataframe tbody tr th:only-of-type {\n",
       "        vertical-align: middle;\n",
       "    }\n",
       "\n",
       "    .dataframe tbody tr th {\n",
       "        vertical-align: top;\n",
       "    }\n",
       "\n",
       "    .dataframe thead th {\n",
       "        text-align: right;\n",
       "    }\n",
       "</style>\n",
       "<table border=\"1\" class=\"dataframe\">\n",
       "  <thead>\n",
       "    <tr style=\"text-align: right;\">\n",
       "      <th></th>\n",
       "      <th>reviewText</th>\n",
       "      <th>overall</th>\n",
       "      <th>lengthText</th>\n",
       "      <th>sentiment</th>\n",
       "      <th>reviewTextProc</th>\n",
       "      <th>numWords</th>\n",
       "    </tr>\n",
       "  </thead>\n",
       "  <tbody>\n",
       "    <tr>\n",
       "      <th>71</th>\n",
       "      <td>GOOD</td>\n",
       "      <td>4</td>\n",
       "      <td>4</td>\n",
       "      <td>1</td>\n",
       "      <td>good</td>\n",
       "      <td>1</td>\n",
       "    </tr>\n",
       "    <tr>\n",
       "      <th>876</th>\n",
       "      <td>NICE</td>\n",
       "      <td>4</td>\n",
       "      <td>4</td>\n",
       "      <td>1</td>\n",
       "      <td>nice</td>\n",
       "      <td>1</td>\n",
       "    </tr>\n",
       "    <tr>\n",
       "      <th>4153</th>\n",
       "      <td>BROKE</td>\n",
       "      <td>2</td>\n",
       "      <td>5</td>\n",
       "      <td>0</td>\n",
       "      <td>broke</td>\n",
       "      <td>1</td>\n",
       "    </tr>\n",
       "    <tr>\n",
       "      <th>5979</th>\n",
       "      <td>Does the job.</td>\n",
       "      <td>3</td>\n",
       "      <td>13</td>\n",
       "      <td>0</td>\n",
       "      <td>job</td>\n",
       "      <td>1</td>\n",
       "    </tr>\n",
       "    <tr>\n",
       "      <th>8267</th>\n",
       "      <td>as described</td>\n",
       "      <td>5</td>\n",
       "      <td>12</td>\n",
       "      <td>1</td>\n",
       "      <td>describ</td>\n",
       "      <td>1</td>\n",
       "    </tr>\n",
       "    <tr>\n",
       "      <th>9693</th>\n",
       "      <td>PRETTY</td>\n",
       "      <td>4</td>\n",
       "      <td>6</td>\n",
       "      <td>1</td>\n",
       "      <td>pretti</td>\n",
       "      <td>1</td>\n",
       "    </tr>\n",
       "  </tbody>\n",
       "</table>\n",
       "</div>\n",
       "    <div class=\"colab-df-buttons\">\n",
       "\n",
       "  <div class=\"colab-df-container\">\n",
       "    <button class=\"colab-df-convert\" onclick=\"convertToInteractive('df-ccf621e4-62a0-4632-8fe7-6bb8cfb9b49a')\"\n",
       "            title=\"Convert this dataframe to an interactive table.\"\n",
       "            style=\"display:none;\">\n",
       "\n",
       "  <svg xmlns=\"http://www.w3.org/2000/svg\" height=\"24px\" viewBox=\"0 -960 960 960\">\n",
       "    <path d=\"M120-120v-720h720v720H120Zm60-500h600v-160H180v160Zm220 220h160v-160H400v160Zm0 220h160v-160H400v160ZM180-400h160v-160H180v160Zm440 0h160v-160H620v160ZM180-180h160v-160H180v160Zm440 0h160v-160H620v160Z\"/>\n",
       "  </svg>\n",
       "    </button>\n",
       "\n",
       "  <style>\n",
       "    .colab-df-container {\n",
       "      display:flex;\n",
       "      gap: 12px;\n",
       "    }\n",
       "\n",
       "    .colab-df-convert {\n",
       "      background-color: #E8F0FE;\n",
       "      border: none;\n",
       "      border-radius: 50%;\n",
       "      cursor: pointer;\n",
       "      display: none;\n",
       "      fill: #1967D2;\n",
       "      height: 32px;\n",
       "      padding: 0 0 0 0;\n",
       "      width: 32px;\n",
       "    }\n",
       "\n",
       "    .colab-df-convert:hover {\n",
       "      background-color: #E2EBFA;\n",
       "      box-shadow: 0px 1px 2px rgba(60, 64, 67, 0.3), 0px 1px 3px 1px rgba(60, 64, 67, 0.15);\n",
       "      fill: #174EA6;\n",
       "    }\n",
       "\n",
       "    .colab-df-buttons div {\n",
       "      margin-bottom: 4px;\n",
       "    }\n",
       "\n",
       "    [theme=dark] .colab-df-convert {\n",
       "      background-color: #3B4455;\n",
       "      fill: #D2E3FC;\n",
       "    }\n",
       "\n",
       "    [theme=dark] .colab-df-convert:hover {\n",
       "      background-color: #434B5C;\n",
       "      box-shadow: 0px 1px 3px 1px rgba(0, 0, 0, 0.15);\n",
       "      filter: drop-shadow(0px 1px 2px rgba(0, 0, 0, 0.3));\n",
       "      fill: #FFFFFF;\n",
       "    }\n",
       "  </style>\n",
       "\n",
       "    <script>\n",
       "      const buttonEl =\n",
       "        document.querySelector('#df-ccf621e4-62a0-4632-8fe7-6bb8cfb9b49a button.colab-df-convert');\n",
       "      buttonEl.style.display =\n",
       "        google.colab.kernel.accessAllowed ? 'block' : 'none';\n",
       "\n",
       "      async function convertToInteractive(key) {\n",
       "        const element = document.querySelector('#df-ccf621e4-62a0-4632-8fe7-6bb8cfb9b49a');\n",
       "        const dataTable =\n",
       "          await google.colab.kernel.invokeFunction('convertToInteractive',\n",
       "                                                    [key], {});\n",
       "        if (!dataTable) return;\n",
       "\n",
       "        const docLinkHtml = 'Like what you see? Visit the ' +\n",
       "          '<a target=\"_blank\" href=https://colab.research.google.com/notebooks/data_table.ipynb>data table notebook</a>'\n",
       "          + ' to learn more about interactive tables.';\n",
       "        element.innerHTML = '';\n",
       "        dataTable['output_type'] = 'display_data';\n",
       "        await google.colab.output.renderOutput(dataTable, element);\n",
       "        const docLink = document.createElement('div');\n",
       "        docLink.innerHTML = docLinkHtml;\n",
       "        element.appendChild(docLink);\n",
       "      }\n",
       "    </script>\n",
       "  </div>\n",
       "\n",
       "\n",
       "    <div id=\"df-32c4f64e-ec91-423e-afba-f3e06973a826\">\n",
       "      <button class=\"colab-df-quickchart\" onclick=\"quickchart('df-32c4f64e-ec91-423e-afba-f3e06973a826')\"\n",
       "                title=\"Suggest charts\"\n",
       "                style=\"display:none;\">\n",
       "\n",
       "<svg xmlns=\"http://www.w3.org/2000/svg\" height=\"24px\"viewBox=\"0 0 24 24\"\n",
       "     width=\"24px\">\n",
       "    <g>\n",
       "        <path d=\"M19 3H5c-1.1 0-2 .9-2 2v14c0 1.1.9 2 2 2h14c1.1 0 2-.9 2-2V5c0-1.1-.9-2-2-2zM9 17H7v-7h2v7zm4 0h-2V7h2v10zm4 0h-2v-4h2v4z\"/>\n",
       "    </g>\n",
       "</svg>\n",
       "      </button>\n",
       "\n",
       "<style>\n",
       "  .colab-df-quickchart {\n",
       "      --bg-color: #E8F0FE;\n",
       "      --fill-color: #1967D2;\n",
       "      --hover-bg-color: #E2EBFA;\n",
       "      --hover-fill-color: #174EA6;\n",
       "      --disabled-fill-color: #AAA;\n",
       "      --disabled-bg-color: #DDD;\n",
       "  }\n",
       "\n",
       "  [theme=dark] .colab-df-quickchart {\n",
       "      --bg-color: #3B4455;\n",
       "      --fill-color: #D2E3FC;\n",
       "      --hover-bg-color: #434B5C;\n",
       "      --hover-fill-color: #FFFFFF;\n",
       "      --disabled-bg-color: #3B4455;\n",
       "      --disabled-fill-color: #666;\n",
       "  }\n",
       "\n",
       "  .colab-df-quickchart {\n",
       "    background-color: var(--bg-color);\n",
       "    border: none;\n",
       "    border-radius: 50%;\n",
       "    cursor: pointer;\n",
       "    display: none;\n",
       "    fill: var(--fill-color);\n",
       "    height: 32px;\n",
       "    padding: 0;\n",
       "    width: 32px;\n",
       "  }\n",
       "\n",
       "  .colab-df-quickchart:hover {\n",
       "    background-color: var(--hover-bg-color);\n",
       "    box-shadow: 0 1px 2px rgba(60, 64, 67, 0.3), 0 1px 3px 1px rgba(60, 64, 67, 0.15);\n",
       "    fill: var(--button-hover-fill-color);\n",
       "  }\n",
       "\n",
       "  .colab-df-quickchart-complete:disabled,\n",
       "  .colab-df-quickchart-complete:disabled:hover {\n",
       "    background-color: var(--disabled-bg-color);\n",
       "    fill: var(--disabled-fill-color);\n",
       "    box-shadow: none;\n",
       "  }\n",
       "\n",
       "  .colab-df-spinner {\n",
       "    border: 2px solid var(--fill-color);\n",
       "    border-color: transparent;\n",
       "    border-bottom-color: var(--fill-color);\n",
       "    animation:\n",
       "      spin 1s steps(1) infinite;\n",
       "  }\n",
       "\n",
       "  @keyframes spin {\n",
       "    0% {\n",
       "      border-color: transparent;\n",
       "      border-bottom-color: var(--fill-color);\n",
       "      border-left-color: var(--fill-color);\n",
       "    }\n",
       "    20% {\n",
       "      border-color: transparent;\n",
       "      border-left-color: var(--fill-color);\n",
       "      border-top-color: var(--fill-color);\n",
       "    }\n",
       "    30% {\n",
       "      border-color: transparent;\n",
       "      border-left-color: var(--fill-color);\n",
       "      border-top-color: var(--fill-color);\n",
       "      border-right-color: var(--fill-color);\n",
       "    }\n",
       "    40% {\n",
       "      border-color: transparent;\n",
       "      border-right-color: var(--fill-color);\n",
       "      border-top-color: var(--fill-color);\n",
       "    }\n",
       "    60% {\n",
       "      border-color: transparent;\n",
       "      border-right-color: var(--fill-color);\n",
       "    }\n",
       "    80% {\n",
       "      border-color: transparent;\n",
       "      border-right-color: var(--fill-color);\n",
       "      border-bottom-color: var(--fill-color);\n",
       "    }\n",
       "    90% {\n",
       "      border-color: transparent;\n",
       "      border-bottom-color: var(--fill-color);\n",
       "    }\n",
       "  }\n",
       "</style>\n",
       "\n",
       "      <script>\n",
       "        async function quickchart(key) {\n",
       "          const quickchartButtonEl =\n",
       "            document.querySelector('#' + key + ' button');\n",
       "          quickchartButtonEl.disabled = true;  // To prevent multiple clicks.\n",
       "          quickchartButtonEl.classList.add('colab-df-spinner');\n",
       "          try {\n",
       "            const charts = await google.colab.kernel.invokeFunction(\n",
       "                'suggestCharts', [key], {});\n",
       "          } catch (error) {\n",
       "            console.error('Error during call to suggestCharts:', error);\n",
       "          }\n",
       "          quickchartButtonEl.classList.remove('colab-df-spinner');\n",
       "          quickchartButtonEl.classList.add('colab-df-quickchart-complete');\n",
       "        }\n",
       "        (() => {\n",
       "          let quickchartButtonEl =\n",
       "            document.querySelector('#df-32c4f64e-ec91-423e-afba-f3e06973a826 button');\n",
       "          quickchartButtonEl.style.display =\n",
       "            google.colab.kernel.accessAllowed ? 'block' : 'none';\n",
       "        })();\n",
       "      </script>\n",
       "    </div>\n",
       "\n",
       "    </div>\n",
       "  </div>\n"
      ],
      "text/plain": [
       "         reviewText  overall  lengthText  sentiment reviewTextProc  numWords\n",
       "71             GOOD        4           4          1           good         1\n",
       "876            NICE        4           4          1           nice         1\n",
       "4153          BROKE        2           5          0          broke         1\n",
       "5979  Does the job.        3          13          0            job         1\n",
       "8267   as described        5          12          1        describ         1\n",
       "9693         PRETTY        4           6          1         pretti         1"
      ]
     },
     "execution_count": 70,
     "metadata": {},
     "output_type": "execute_result"
    }
   ],
   "source": [
    "df[df['numWords'] == 1]"
   ]
  },
  {
   "cell_type": "code",
   "execution_count": null,
   "metadata": {
    "colab": {
     "base_uri": "https://localhost:8080/",
     "height": 81
    },
    "executionInfo": {
     "elapsed": 658,
     "status": "ok",
     "timestamp": 1750449169147,
     "user": {
      "displayName": "Miguel Angel Pardo",
      "userId": "16900940354237523056"
     },
     "user_tz": -120
    },
    "id": "1LOnFzMH5k88",
    "outputId": "0d7f2f64-1f8a-4eef-e7b1-ddc4c46b6d21"
   },
   "outputs": [
    {
     "data": {
      "application/vnd.google.colaboratory.intrinsic+json": {
       "summary": "{\n  \"name\": \"df[df['numWords'] > 1100]\",\n  \"rows\": 1,\n  \"fields\": [\n    {\n      \"column\": \"reviewText\",\n      \"properties\": {\n        \"dtype\": \"string\",\n        \"num_unique_values\": 1,\n        \"samples\": [\n          \"For all of you who don't want to read all of my discoveries and learning experiences, here's my CONCLUSIONS FIRST:1.  Mower arrived in good shape except shipping damage that was easy to fix.2.  I am old, so the 45 minute charge duration doesn't bother me, it might not work well for you guys that mow all afternoon.3.  There are many quirks and the learning curve might be tedious for some of you, but if you read below, you'll get most of them up front.  The primary difficulty most people have is turning the unit 180 degrees and the problem with it not backing up because the wheels lock.  If you approach your spin-around point and let go of the drive lever, spin it around on the back wheels and apply the drive again before you even set it down, you'll hardly miss a beat.  For the lock-up problem, you just have to know to let go of the drive lever before you stop.  If you run into a tree or something, you're not going to be able to back it out without skidding the drive wheels.4.  There is a plastic insert between the blade and the drive shaft of the motor.  The insert also serves as a fan for the motor.  If you hit something hard with the blade, the insert is made so that the blade pops off of the teeth of the insert and onto a round portion so you don't cause damage to the blade.  If that happens you need to take the blade nut off and straighten the blade back onto the teeth... 5 minutes including the time to find the 3/4 inch wrench.My final thoughts as of today:  Great mower for my needs, much power to pull it up hills, enough weight to let it coast going down hills.  Battery lasts longer than I do.  How long until the battery needs replacing?  I don't know but if you always have it hooked to the charger, as instructed, I suspect it will last several years.ORIGINAL REVIEW AND UPDATES:I'm a regular reviewer on Amazon and the purchase of this item was a big deal for me.  I spent over a week reading the other reviews before ordering and then re-read them to prepare myself for the different shortcomings.  I want to start a biography for this mower so anyone who can stand my wordiness can see my entire experience with it.First of all, I'm 72.  I started mowing lawns for extra money back when I was about 10 and my dad bought an electric mower.  I figured I didn't even have to buy gas, so this was a great way to earn some cash.  My 8yo brother and I went door to door every evening after school looking for a yard to cut, we charged a buck, so it was pretty easy to get customers most of the time.  He would manage the wire to keep it out of my way, and I just pushed.I live now in a family property of 8 acres, with about half of that mow-able. There are many many trees and places that the nice riding mower can't get to, so we need still to have a small mower to finish things off.  I've been using a corded electric, but there are places my 3 extension cords can't reach, and it's a pain getting around all of the trees.  SO a self propelled mower is logical, and I like the idea of not having to buy gas and store it (I even have reviews on here about gas cans!) so this particular mower is very attractive to me, thus the extensive study of the reviews.  Note that the riding mower is stored in a special shed away from any houses.I will put my experiences with it as they happen and will update many times as I learn tricks and experience problems:6/19/2012  Initial Impression:UPS delivered this item from Kentucky to South Texas in 3 days.  The box was battered, but the only damage to the mower was a slightly bent handle mount on the top of the mower.  I just attached the handle to that first, and used the leverage of the handle to push it back into position, then bolted the other side of the handle in place.  Then I rolled the mower to where it will live in the carport and plugged in the charger.  It took less than two hours for the green light to come on...maybe less, that was the first time I'd checked it.First chuckle:  One of the reviewers complained that it took two men and a lot of muscle to set the height.  Without reading the instructions, I looked on the side of the mower and there's the adjustment squeeze  button.  It's big.  Squeeze it and the mower comes up by itself... push down on the mower and it lowers.  10 seconds, and NO effort.  Kind of obvious, guys... maybe yours was broken or something.Took a few seconds to figure out the starting sequence, but since I use an electric mower anyway, not that different.  Just push a big red button on the side, pull in the wide \\\"dead man's control\\\" on the handle and there ya go... Oh yeah of course the interlock key has to be plugged in...that's so kids can't start it.  My only complaint about this setup is that the button is on the side in a rather wide space on the handle, so it's not easy to see and not easy to feel either.  I'll get used to where it is and soon won't even have to think about pushing it.Turned off the blade and engaged the drive lever.  It's a big orange lever that goes across the handle, shaped so that as you're moving you can tap it on and off to fine tune your speed as needed for your detail work.  People complain that it's too fast in the slowest setting, but folks, you don't drive your car with the pedal to the metal, just tap this as you need to go, let go as you want to not go so fast.. It's a clutched electric drive, so it hurts nothing to control your speed this way.  If you're wanting to drive the mower from one location to another, yeah hold it down and let it get up to the speed you want to walk or even run.  I never took it out of slowest though... yeah I'm 72.Turning around seemed to be a problem for many reviewers, complaining that the wheels locked.  I just let off the drive lever, raised the front wheels, spun it around, engaged the lever again (a little earlier than the front wheels set down) and I'm going the other way lickity split.  Absolutely no problem and short learning curve.My front yard is on a slant, going down to a cliff that overlooks the river.  We've had problems with people falling off the cliff and once my brother in law actually rode the riding mower off and hurt himself badly, so I was a little worried about controls down in that area.  Tapping the drive lever worked fine though... when you tap it ON, it accelerates gradually and when you let go, it just lets you push or it slows down due to it's weight... doesn't take long to get used to.That's pretty much my first impression and first installment here... there will be much more.  Oh and this mower is spiffy visually... kind of like a sports bike of lawn mowers.  I like it just fine on day one.Day two 6/20/12:I don't know how many words Amazon allows for reviews, but I can see this will become a blog.  Sorry to you guys that like it all said in 20 words or less, but there's 222 other reviews here.  This is for the people who want to know all the details before buying and for those who are having problems and maybe my experiences might help them.This morning I was mowing mainly under low branches of trees where the big Zero Radius Hustler can't go.  The slanted snout on the B&D; makes this a breeze except under mesquite trees... there's no easy way to avoid the thorns.  But with the constant back and forth, there's no use for the self-propulsion, so of course I just pushed and pulled.  This mower is heavier than the little electric corded mower, but much more powerful, so I really didn't have a problem.  Nice clean cuts even in very tall grass.  Some places hadn't been cut all spring, so they were very deep and yes the mower bogged... but often the thought in my head was, well that one would have killed a gas motor and I'd be pulling the cord now.  Instead I just pull it back a few inches and the speed comes right back up.  Of course when you stall an electric motor like that, it's like putting a direct short on the battery, so try not to do that... easy to raise the front wheels and just take it a layer at a time.About wheel lock:  Apparently the drive to the rear wheels is a ratchet setup and if you let off the drive bar, the ratchet stays in it's slot and the mower will not back up.  Just nudge the mower forward and the ratchet releases and you can back up, it's not a big deal at all and I don't see why none of the people reporting this problem realize it just takes a bump forward to release it.  Easier though for me if I'm going back and forth a lot, like up next to a bush or a wall, to just power it myself.Today I did run the battery down pretty bad, but I was ready to quit by then anyway.  It still limped home on it's own power.6/21/2012:  Heavy Stuff!Today I mowed along a fence line that hasn't been mowed all year.  Weeds here are 3' tall and more. So tall that rolling over them just knocks them down without much cutting.  This would be true of any mower doing this job.  I Cut these by going forward and pulling back, so that it hooks the fallen weeds and chops them from the top.  This really should have been done by the Hustler or by a tractor even, but I just did it to test the mower.  I tried several ways to do it but the 2 feet forward and 2 feet back seemed to work the best.  Second best was taking just a small sliver each run and then going back over the whole thing a second time, but this left a lot of stalks standing.  Ended up next to the fence and it was interesting to note how these wheels let you snug right up against an object forward and backward.  All in all it did a nice job but it's heavy.  But I think the weight helps in deep stuff like this.Battery still had enough power afterward to climb the hill faster than I could walk on the way home.7/15/2012  Hot, but restfulNot sorry to say that since we are in Texas, this is the dry season and the grass doesn't grow much without rain.  I haven't had to mow since my last post, but we've had a few sprinkles in the last week, so I'm sure I will be making another entry soon.  The mower is connected to the charger, waiting for it's chance to show off.9/30/12 No problems, a couple of new ideasOk we've had a couple of good slow soakers here and though the river is still pretty low, the grass is growing happily.  I mowed a little last week just to level out the front yard (river side of the house) and no problems to report.Today I worked about an hour on my brother's lawn next door to me, they've been gone to Seattle all summer.  Grass and weeds pretty lush, knee height.  No problems other than avoiding stepping in fire ant mounds.  Then on to the slope by the river, which is the main reason I bought a self propelled mower.  Works wonderfully and I'm getting very good at manipulating the power drive.  Noted that sometimes I'm busy with both hands and I can nudge the drive bar with my stomach to get going... don't know how much of a discovery that is.  Another small item is that the LED on the charger is only visible from straight on, so I have always had to walk right up to it and look down to see if it's green or red or off (bad a.c. socket at the house).  So I turned the charger on the side and faced it toward the entry to the carport so I can see it from a distance... intuitive I guess.Still very happy I bought this mower.  Perfect for my uses.4/13/13 Spring MowingSo nice to walk out after months of non-use and push a button and off I go.  I did leave the charger plugged in all winter as instructed.  No issues whatsoever and I'm mowing for about half an hour each day both for cleanup of the lawn and for exercise.  I'm now very good at maneuvering the thing and have no problems with it.  I'm still a happy customer.  No gas to change out, no additives to keep the gasoline from gelling, no oil to check... just disconnect the charger, put in the key and go... never a hesitation from the mower.\"\n        ],\n        \"semantic_type\": \"\",\n        \"description\": \"\"\n      }\n    },\n    {\n      \"column\": \"overall\",\n      \"properties\": {\n        \"dtype\": \"number\",\n        \"std\": null,\n        \"min\": 5,\n        \"max\": 5,\n        \"num_unique_values\": 1,\n        \"samples\": [\n          5\n        ],\n        \"semantic_type\": \"\",\n        \"description\": \"\"\n      }\n    },\n    {\n      \"column\": \"lengthText\",\n      \"properties\": {\n        \"dtype\": \"number\",\n        \"std\": null,\n        \"min\": 11816,\n        \"max\": 11816,\n        \"num_unique_values\": 1,\n        \"samples\": [\n          11816\n        ],\n        \"semantic_type\": \"\",\n        \"description\": \"\"\n      }\n    },\n    {\n      \"column\": \"sentiment\",\n      \"properties\": {\n        \"dtype\": \"number\",\n        \"std\": null,\n        \"min\": 1,\n        \"max\": 1,\n        \"num_unique_values\": 1,\n        \"samples\": [\n          1\n        ],\n        \"semantic_type\": \"\",\n        \"description\": \"\"\n      }\n    },\n    {\n      \"column\": \"reviewTextProc\",\n      \"properties\": {\n        \"dtype\": \"string\",\n        \"num_unique_values\": 1,\n        \"samples\": [\n          \"want read discoveri learn experi conclus first one mower arriv good shape except ship damag easi fix two old forty-five minut charg durat bother might work well guy mow afternoon three mani quirk learn curv might tediou read front primari difficulti peopl turn unit one hundred and eighty degre problem back wheel lock approach spin around point let go drive lever spin around back wheel appli drive even set hardli miss beat lock problem know let go drive lever stop run tree someth go abl back without skid drive wheel four plastic insert blade drive shaft motor insert serv fan motor hit someth hard blade insert made blade pop teeth insert onto round portion caus damag blade happen need take blade nut straighten blade back onto teeth five minut includ time find three four inch wrench final thought today great mower need much power pull hill enough weight let coast go hill batteri last longer long batteri need replac know alway hook charger instruct suspect will last sever year origin review updat regular review amazon purchas item big deal spent week read review order re read prepar differ shortcom want start biographi mower anyon stand wordi see entir experi first seventy-two start mow lawn extra money back ten dad bought electr mower figur even buy ga great way earn cash 8yo brother went door door everi even school look yard cut charg buck pretti easi custom time manag wire keep way push live now famili properti eight acr half mow abl mani mani tree place nice ride mower need still small mower finish thing use cord electr place three extens cord reach pain get around tree self propel mower logic idea buy ga store even review ga can particular mower attract thu extens studi review note ride mower store special shed away hous will put experi happen will updat mani time learn trick experi problem six nineteen two thousand and twelve initi impress up deliv item kentucki south texa three day box batter damag mower slightli bent handl mount top mower attach handl first use leverag handl push back posit bolt side handl place roll mower will live carport plug charger took less two hour green light come mayb less first time check first chuckl one review complain took two men lot muscl set height without read instruct look side mower adjust squeez button big squeez mower come push mower lower ten second effort kind obviou guy mayb broken someth took second figur start sequenc use electr mower anyway differ push big red button side pull wide dead man control handl ya go oh yeah cours interlock key plug kid start complaint setup button side rather wide space handl easi see easi feel either use soon even think push turn blade engag drive lever big orang lever goe across handl shape move tap fine tune speed need detail work peopl complain fast slowest set folk drive car pedal metal tap need go let go want go fast clutch electr drive hurt noth control speed way want drive mower one locat anoth yeah hold let speed want walk even run never took slowest though yeah seventy-two turn around seem problem mani review complain wheel lock let drive lever rais front wheel spun around engag lever littl earlier front wheel set go way lickiti split absolut problem short learn curv front yard slant go cliff overlook river problem peopl fall cliff brother law actual rode ride mower hurt badli littl worri control area tap drive lever work fine though tap acceler gradual let go let push slow due weight take long use pretti much first impress first instal will much oh mower spiffi visual kind sport bike lawn mower fine day one day two six twenty twelve know mani word amazon allow review see will becom blog sorri guy said twenty word less two hundred and twenty-two review peopl want know detail buy problem mayb experi might help morn mow mainli low branch tree big zero radiu hustler go slant snout d make breez except mesquit tree easi way avoid thorn constant back forth use self propuls cours push pull mower heavier littl electr cord mower much power realli problem nice clean cut even tall grass place cut spring deep ye mower bog often thought head well one kill ga motor pull cord now instead pull back inch speed come right back cours stall electr motor put direct short batteri tri easi rais front wheel take layer time wheel lock appar drive rear wheel ratchet setup let drive bar ratchet stay slot mower will back nudg mower forward ratchet releas back big deal see none peopl report problem realiz take bump forward releas easier though go back forth lot next bush wall power today run batteri pretti bad readi quit anyway still limp home power six twenty-one two thousand and twelve heavi stuff today mow along fenc line mow year weed three tall tall roll knock without much cut true mower job cut go forward pull back hook fallen weed chop top realli done hustler tractor even test mower tri sever way two feet forward two feet back seem work best second best take small sliver run go back whole thing second time left lot stalk stand end next fenc interest note wheel let snug right object forward backward nice job heavi think weight help deep stuff batteri still enough power afterward climb hill faster walk way home seven fifteen two thousand and twelve hot restfulnot sorri say texa dri season grass grow much without rain mow last post sprinkl last week sure will make anoth entri soon mower connect charger wait chanc show nine thirty twelve problem coupl new ideasok coupl good slow soaker though river still pretti low grass grow happili mow littl last week level front yard river side hous problem report today work hour brother lawn next door gone seattl summer grass weed pretti lush knee height problem avoid step fire ant mound slope river main reason bought self propel mower work wonder get good manipul power drive note sometim busi hand nudg drive bar stomach go know much discoveri anoth small item led charger visibl straight alway walk right look see green red bad c socket hous turn charger side face toward entri carport see distanc intuit guess still happi bought mower perfect use four thirteen thirteen spring mowingso nice walk month non use push button go leav charger plug winter instruct issu whatsoev mow half hour day cleanup lawn exercis now good maneuv thing problem still happi custom ga chang addit keep gasolin gell oil check disconnect charger put key go never hesit mower\"\n        ],\n        \"semantic_type\": \"\",\n        \"description\": \"\"\n      }\n    },\n    {\n      \"column\": \"numWords\",\n      \"properties\": {\n        \"dtype\": \"number\",\n        \"std\": null,\n        \"min\": 1108,\n        \"max\": 1108,\n        \"num_unique_values\": 1,\n        \"samples\": [\n          1108\n        ],\n        \"semantic_type\": \"\",\n        \"description\": \"\"\n      }\n    }\n  ]\n}",
       "type": "dataframe"
      },
      "text/html": [
       "\n",
       "  <div id=\"df-9e328277-f406-4407-8ed9-3b8ec8c4a035\" class=\"colab-df-container\">\n",
       "    <div>\n",
       "<style scoped>\n",
       "    .dataframe tbody tr th:only-of-type {\n",
       "        vertical-align: middle;\n",
       "    }\n",
       "\n",
       "    .dataframe tbody tr th {\n",
       "        vertical-align: top;\n",
       "    }\n",
       "\n",
       "    .dataframe thead th {\n",
       "        text-align: right;\n",
       "    }\n",
       "</style>\n",
       "<table border=\"1\" class=\"dataframe\">\n",
       "  <thead>\n",
       "    <tr style=\"text-align: right;\">\n",
       "      <th></th>\n",
       "      <th>reviewText</th>\n",
       "      <th>overall</th>\n",
       "      <th>lengthText</th>\n",
       "      <th>sentiment</th>\n",
       "      <th>reviewTextProc</th>\n",
       "      <th>numWords</th>\n",
       "    </tr>\n",
       "  </thead>\n",
       "  <tbody>\n",
       "    <tr>\n",
       "      <th>8391</th>\n",
       "      <td>For all of you who don't want to read all of m...</td>\n",
       "      <td>5</td>\n",
       "      <td>11816</td>\n",
       "      <td>1</td>\n",
       "      <td>want read discoveri learn experi conclus first...</td>\n",
       "      <td>1108</td>\n",
       "    </tr>\n",
       "  </tbody>\n",
       "</table>\n",
       "</div>\n",
       "    <div class=\"colab-df-buttons\">\n",
       "\n",
       "  <div class=\"colab-df-container\">\n",
       "    <button class=\"colab-df-convert\" onclick=\"convertToInteractive('df-9e328277-f406-4407-8ed9-3b8ec8c4a035')\"\n",
       "            title=\"Convert this dataframe to an interactive table.\"\n",
       "            style=\"display:none;\">\n",
       "\n",
       "  <svg xmlns=\"http://www.w3.org/2000/svg\" height=\"24px\" viewBox=\"0 -960 960 960\">\n",
       "    <path d=\"M120-120v-720h720v720H120Zm60-500h600v-160H180v160Zm220 220h160v-160H400v160Zm0 220h160v-160H400v160ZM180-400h160v-160H180v160Zm440 0h160v-160H620v160ZM180-180h160v-160H180v160Zm440 0h160v-160H620v160Z\"/>\n",
       "  </svg>\n",
       "    </button>\n",
       "\n",
       "  <style>\n",
       "    .colab-df-container {\n",
       "      display:flex;\n",
       "      gap: 12px;\n",
       "    }\n",
       "\n",
       "    .colab-df-convert {\n",
       "      background-color: #E8F0FE;\n",
       "      border: none;\n",
       "      border-radius: 50%;\n",
       "      cursor: pointer;\n",
       "      display: none;\n",
       "      fill: #1967D2;\n",
       "      height: 32px;\n",
       "      padding: 0 0 0 0;\n",
       "      width: 32px;\n",
       "    }\n",
       "\n",
       "    .colab-df-convert:hover {\n",
       "      background-color: #E2EBFA;\n",
       "      box-shadow: 0px 1px 2px rgba(60, 64, 67, 0.3), 0px 1px 3px 1px rgba(60, 64, 67, 0.15);\n",
       "      fill: #174EA6;\n",
       "    }\n",
       "\n",
       "    .colab-df-buttons div {\n",
       "      margin-bottom: 4px;\n",
       "    }\n",
       "\n",
       "    [theme=dark] .colab-df-convert {\n",
       "      background-color: #3B4455;\n",
       "      fill: #D2E3FC;\n",
       "    }\n",
       "\n",
       "    [theme=dark] .colab-df-convert:hover {\n",
       "      background-color: #434B5C;\n",
       "      box-shadow: 0px 1px 3px 1px rgba(0, 0, 0, 0.15);\n",
       "      filter: drop-shadow(0px 1px 2px rgba(0, 0, 0, 0.3));\n",
       "      fill: #FFFFFF;\n",
       "    }\n",
       "  </style>\n",
       "\n",
       "    <script>\n",
       "      const buttonEl =\n",
       "        document.querySelector('#df-9e328277-f406-4407-8ed9-3b8ec8c4a035 button.colab-df-convert');\n",
       "      buttonEl.style.display =\n",
       "        google.colab.kernel.accessAllowed ? 'block' : 'none';\n",
       "\n",
       "      async function convertToInteractive(key) {\n",
       "        const element = document.querySelector('#df-9e328277-f406-4407-8ed9-3b8ec8c4a035');\n",
       "        const dataTable =\n",
       "          await google.colab.kernel.invokeFunction('convertToInteractive',\n",
       "                                                    [key], {});\n",
       "        if (!dataTable) return;\n",
       "\n",
       "        const docLinkHtml = 'Like what you see? Visit the ' +\n",
       "          '<a target=\"_blank\" href=https://colab.research.google.com/notebooks/data_table.ipynb>data table notebook</a>'\n",
       "          + ' to learn more about interactive tables.';\n",
       "        element.innerHTML = '';\n",
       "        dataTable['output_type'] = 'display_data';\n",
       "        await google.colab.output.renderOutput(dataTable, element);\n",
       "        const docLink = document.createElement('div');\n",
       "        docLink.innerHTML = docLinkHtml;\n",
       "        element.appendChild(docLink);\n",
       "      }\n",
       "    </script>\n",
       "  </div>\n",
       "\n",
       "\n",
       "    </div>\n",
       "  </div>\n"
      ],
      "text/plain": [
       "                                             reviewText  overall  lengthText  \\\n",
       "8391  For all of you who don't want to read all of m...        5       11816   \n",
       "\n",
       "      sentiment                                     reviewTextProc  numWords  \n",
       "8391          1  want read discoveri learn experi conclus first...      1108  "
      ]
     },
     "execution_count": 71,
     "metadata": {},
     "output_type": "execute_result"
    }
   ],
   "source": [
    "df[df['numWords'] > 1100]"
   ]
  },
  {
   "cell_type": "code",
   "execution_count": null,
   "metadata": {
    "colab": {
     "base_uri": "https://localhost:8080/",
     "height": 671
    },
    "executionInfo": {
     "elapsed": 297,
     "status": "ok",
     "timestamp": 1750449637897,
     "user": {
      "displayName": "Miguel Angel Pardo",
      "userId": "16900940354237523056"
     },
     "user_tz": -120
    },
    "id": "QBuFRErqxj4H",
    "outputId": "418ed746-3b13-409b-abef-bb4c8ef9765a"
   },
   "outputs": [
    {
     "data": {
      "image/png": "[encoded data removed]",
      "text/plain": [
       "<Figure size 500x400 with 1 Axes>"
      ]
     },
     "metadata": {},
     "output_type": "display_data"
    },
    {
     "data": {
      "application/vnd.google.colaboratory.intrinsic+json": {
       "summary": "{\n  \"name\": \"pd\",\n  \"rows\": 8,\n  \"fields\": [\n    {\n      \"column\": \"CountUni\",\n      \"properties\": {\n        \"dtype\": \"number\",\n        \"std\": 6437.844263416376,\n        \"min\": 1.0,\n        \"max\": 15809.0,\n        \"num_unique_values\": 7,\n        \"samples\": [\n          15809.0,\n          47.35530394079322,\n          11.0\n        ],\n        \"semantic_type\": \"\",\n        \"description\": \"\"\n      }\n    }\n  ]\n}",
       "type": "dataframe"
      },
      "text/html": [
       "\n",
       "  <div id=\"df-359d5d5c-26cd-4835-9d8c-9818fb9df3f8\" class=\"colab-df-container\">\n",
       "    <div>\n",
       "<style scoped>\n",
       "    .dataframe tbody tr th:only-of-type {\n",
       "        vertical-align: middle;\n",
       "    }\n",
       "\n",
       "    .dataframe tbody tr th {\n",
       "        vertical-align: top;\n",
       "    }\n",
       "\n",
       "    .dataframe thead th {\n",
       "        text-align: right;\n",
       "    }\n",
       "</style>\n",
       "<table border=\"1\" class=\"dataframe\">\n",
       "  <thead>\n",
       "    <tr style=\"text-align: right;\">\n",
       "      <th></th>\n",
       "      <th>CountUni</th>\n",
       "    </tr>\n",
       "  </thead>\n",
       "  <tbody>\n",
       "    <tr>\n",
       "      <th>count</th>\n",
       "      <td>15809.000000</td>\n",
       "    </tr>\n",
       "    <tr>\n",
       "      <th>mean</th>\n",
       "      <td>47.355304</td>\n",
       "    </tr>\n",
       "    <tr>\n",
       "      <th>std</th>\n",
       "      <td>250.775073</td>\n",
       "    </tr>\n",
       "    <tr>\n",
       "      <th>min</th>\n",
       "      <td>1.000000</td>\n",
       "    </tr>\n",
       "    <tr>\n",
       "      <th>25%</th>\n",
       "      <td>1.000000</td>\n",
       "    </tr>\n",
       "    <tr>\n",
       "      <th>50%</th>\n",
       "      <td>2.000000</td>\n",
       "    </tr>\n",
       "    <tr>\n",
       "      <th>75%</th>\n",
       "      <td>11.000000</td>\n",
       "    </tr>\n",
       "    <tr>\n",
       "      <th>max</th>\n",
       "      <td>11700.000000</td>\n",
       "    </tr>\n",
       "  </tbody>\n",
       "</table>\n",
       "</div>\n",
       "    <div class=\"colab-df-buttons\">\n",
       "\n",
       "  <div class=\"colab-df-container\">\n",
       "    <button class=\"colab-df-convert\" onclick=\"convertToInteractive('df-359d5d5c-26cd-4835-9d8c-9818fb9df3f8')\"\n",
       "            title=\"Convert this dataframe to an interactive table.\"\n",
       "            style=\"display:none;\">\n",
       "\n",
       "  <svg xmlns=\"http://www.w3.org/2000/svg\" height=\"24px\" viewBox=\"0 -960 960 960\">\n",
       "    <path d=\"M120-120v-720h720v720H120Zm60-500h600v-160H180v160Zm220 220h160v-160H400v160Zm0 220h160v-160H400v160ZM180-400h160v-160H180v160Zm440 0h160v-160H620v160ZM180-180h160v-160H180v160Zm440 0h160v-160H620v160Z\"/>\n",
       "  </svg>\n",
       "    </button>\n",
       "\n",
       "  <style>\n",
       "    .colab-df-container {\n",
       "      display:flex;\n",
       "      gap: 12px;\n",
       "    }\n",
       "\n",
       "    .colab-df-convert {\n",
       "      background-color: #E8F0FE;\n",
       "      border: none;\n",
       "      border-radius: 50%;\n",
       "      cursor: pointer;\n",
       "      display: none;\n",
       "      fill: #1967D2;\n",
       "      height: 32px;\n",
       "      padding: 0 0 0 0;\n",
       "      width: 32px;\n",
       "    }\n",
       "\n",
       "    .colab-df-convert:hover {\n",
       "      background-color: #E2EBFA;\n",
       "      box-shadow: 0px 1px 2px rgba(60, 64, 67, 0.3), 0px 1px 3px 1px rgba(60, 64, 67, 0.15);\n",
       "      fill: #174EA6;\n",
       "    }\n",
       "\n",
       "    .colab-df-buttons div {\n",
       "      margin-bottom: 4px;\n",
       "    }\n",
       "\n",
       "    [theme=dark] .colab-df-convert {\n",
       "      background-color: #3B4455;\n",
       "      fill: #D2E3FC;\n",
       "    }\n",
       "\n",
       "    [theme=dark] .colab-df-convert:hover {\n",
       "      background-color: #434B5C;\n",
       "      box-shadow: 0px 1px 3px 1px rgba(0, 0, 0, 0.15);\n",
       "      filter: drop-shadow(0px 1px 2px rgba(0, 0, 0, 0.3));\n",
       "      fill: #FFFFFF;\n",
       "    }\n",
       "  </style>\n",
       "\n",
       "    <script>\n",
       "      const buttonEl =\n",
       "        document.querySelector('#df-359d5d5c-26cd-4835-9d8c-9818fb9df3f8 button.colab-df-convert');\n",
       "      buttonEl.style.display =\n",
       "        google.colab.kernel.accessAllowed ? 'block' : 'none';\n",
       "\n",
       "      async function convertToInteractive(key) {\n",
       "        const element = document.querySelector('#df-359d5d5c-26cd-4835-9d8c-9818fb9df3f8');\n",
       "        const dataTable =\n",
       "          await google.colab.kernel.invokeFunction('convertToInteractive',\n",
       "                                                    [key], {});\n",
       "        if (!dataTable) return;\n",
       "\n",
       "        const docLinkHtml = 'Like what you see? Visit the ' +\n",
       "          '<a target=\"_blank\" href=https://colab.research.google.com/notebooks/data_table.ipynb>data table notebook</a>'\n",
       "          + ' to learn more about interactive tables.';\n",
       "        element.innerHTML = '';\n",
       "        dataTable['output_type'] = 'display_data';\n",
       "        await google.colab.output.renderOutput(dataTable, element);\n",
       "        const docLink = document.createElement('div');\n",
       "        docLink.innerHTML = docLinkHtml;\n",
       "        element.appendChild(docLink);\n",
       "      }\n",
       "    </script>\n",
       "  </div>\n",
       "\n",
       "\n",
       "    <div id=\"df-6ff4683b-73bb-4ad6-b5f4-c369c45e80ca\">\n",
       "      <button class=\"colab-df-quickchart\" onclick=\"quickchart('df-6ff4683b-73bb-4ad6-b5f4-c369c45e80ca')\"\n",
       "                title=\"Suggest charts\"\n",
       "                style=\"display:none;\">\n",
       "\n",
       "<svg xmlns=\"http://www.w3.org/2000/svg\" height=\"24px\"viewBox=\"0 0 24 24\"\n",
       "     width=\"24px\">\n",
       "    <g>\n",
       "        <path d=\"M19 3H5c-1.1 0-2 .9-2 2v14c0 1.1.9 2 2 2h14c1.1 0 2-.9 2-2V5c0-1.1-.9-2-2-2zM9 17H7v-7h2v7zm4 0h-2V7h2v10zm4 0h-2v-4h2v4z\"/>\n",
       "    </g>\n",
       "</svg>\n",
       "      </button>\n",
       "\n",
       "<style>\n",
       "  .colab-df-quickchart {\n",
       "      --bg-color: #E8F0FE;\n",
       "      --fill-color: #1967D2;\n",
       "      --hover-bg-color: #E2EBFA;\n",
       "      --hover-fill-color: #174EA6;\n",
       "      --disabled-fill-color: #AAA;\n",
       "      --disabled-bg-color: #DDD;\n",
       "  }\n",
       "\n",
       "  [theme=dark] .colab-df-quickchart {\n",
       "      --bg-color: #3B4455;\n",
       "      --fill-color: #D2E3FC;\n",
       "      --hover-bg-color: #434B5C;\n",
       "      --hover-fill-color: #FFFFFF;\n",
       "      --disabled-bg-color: #3B4455;\n",
       "      --disabled-fill-color: #666;\n",
       "  }\n",
       "\n",
       "  .colab-df-quickchart {\n",
       "    background-color: var(--bg-color);\n",
       "    border: none;\n",
       "    border-radius: 50%;\n",
       "    cursor: pointer;\n",
       "    display: none;\n",
       "    fill: var(--fill-color);\n",
       "    height: 32px;\n",
       "    padding: 0;\n",
       "    width: 32px;\n",
       "  }\n",
       "\n",
       "  .colab-df-quickchart:hover {\n",
       "    background-color: var(--hover-bg-color);\n",
       "    box-shadow: 0 1px 2px rgba(60, 64, 67, 0.3), 0 1px 3px 1px rgba(60, 64, 67, 0.15);\n",
       "    fill: var(--button-hover-fill-color);\n",
       "  }\n",
       "\n",
       "  .colab-df-quickchart-complete:disabled,\n",
       "  .colab-df-quickchart-complete:disabled:hover {\n",
       "    background-color: var(--disabled-bg-color);\n",
       "    fill: var(--disabled-fill-color);\n",
       "    box-shadow: none;\n",
       "  }\n",
       "\n",
       "  .colab-df-spinner {\n",
       "    border: 2px solid var(--fill-color);\n",
       "    border-color: transparent;\n",
       "    border-bottom-color: var(--fill-color);\n",
       "    animation:\n",
       "      spin 1s steps(1) infinite;\n",
       "  }\n",
       "\n",
       "  @keyframes spin {\n",
       "    0% {\n",
       "      border-color: transparent;\n",
       "      border-bottom-color: var(--fill-color);\n",
       "      border-left-color: var(--fill-color);\n",
       "    }\n",
       "    20% {\n",
       "      border-color: transparent;\n",
       "      border-left-color: var(--fill-color);\n",
       "      border-top-color: var(--fill-color);\n",
       "    }\n",
       "    30% {\n",
       "      border-color: transparent;\n",
       "      border-left-color: var(--fill-color);\n",
       "      border-top-color: var(--fill-color);\n",
       "      border-right-color: var(--fill-color);\n",
       "    }\n",
       "    40% {\n",
       "      border-color: transparent;\n",
       "      border-right-color: var(--fill-color);\n",
       "      border-top-color: var(--fill-color);\n",
       "    }\n",
       "    60% {\n",
       "      border-color: transparent;\n",
       "      border-right-color: var(--fill-color);\n",
       "    }\n",
       "    80% {\n",
       "      border-color: transparent;\n",
       "      border-right-color: var(--fill-color);\n",
       "      border-bottom-color: var(--fill-color);\n",
       "    }\n",
       "    90% {\n",
       "      border-color: transparent;\n",
       "      border-bottom-color: var(--fill-color);\n",
       "    }\n",
       "  }\n",
       "</style>\n",
       "\n",
       "      <script>\n",
       "        async function quickchart(key) {\n",
       "          const quickchartButtonEl =\n",
       "            document.querySelector('#' + key + ' button');\n",
       "          quickchartButtonEl.disabled = true;  // To prevent multiple clicks.\n",
       "          quickchartButtonEl.classList.add('colab-df-spinner');\n",
       "          try {\n",
       "            const charts = await google.colab.kernel.invokeFunction(\n",
       "                'suggestCharts', [key], {});\n",
       "          } catch (error) {\n",
       "            console.error('Error during call to suggestCharts:', error);\n",
       "          }\n",
       "          quickchartButtonEl.classList.remove('colab-df-spinner');\n",
       "          quickchartButtonEl.classList.add('colab-df-quickchart-complete');\n",
       "        }\n",
       "        (() => {\n",
       "          let quickchartButtonEl =\n",
       "            document.querySelector('#df-6ff4683b-73bb-4ad6-b5f4-c369c45e80ca button');\n",
       "          quickchartButtonEl.style.display =\n",
       "            google.colab.kernel.accessAllowed ? 'block' : 'none';\n",
       "        })();\n",
       "      </script>\n",
       "    </div>\n",
       "\n",
       "    </div>\n",
       "  </div>\n"
      ],
      "text/plain": [
       "           CountUni\n",
       "count  15809.000000\n",
       "mean      47.355304\n",
       "std      250.775073\n",
       "min        1.000000\n",
       "25%        1.000000\n",
       "50%        2.000000\n",
       "75%       11.000000\n",
       "max    11700.000000"
      ]
     },
     "execution_count": 82,
     "metadata": {},
     "output_type": "execute_result"
    }
   ],
   "source": [
    "# Ditribution of number of ocurrences for each unigram\n",
    "plt.figure(figsize=(5,4))\n",
    "sns.kdeplot(totalCountUni.tolist()[0], fill=True, color='skyblue', alpha=0.5)\n",
    "plt.xlabel('Number of ocurrences')\n",
    "plt.ylabel('Density')\n",
    "plt.show()\n",
    "pd.DataFrame(totalCountUni.T, columns=['CountUni']).describe()"
   ]
  },
  {
   "cell_type": "code",
   "execution_count": null,
   "metadata": {
    "id": "_jAey-hjz3qS"
   },
   "outputs": [],
   "source": [
    "# Train word2vec model\n",
    "w2v_model = Word2Vec(min_count=5,\n",
    "                     window=2,\n",
    "                     vector_size=30,\n",
    "                     sample=6e-5,\n",
    "                     alpha=0.03,\n",
    "                     min_alpha=0.0007,\n",
    "                     negative=20\n",
    "                     )"
   ]
  },
  {
   "cell_type": "code",
   "execution_count": null,
   "metadata": {
    "colab": {
     "base_uri": "https://localhost:8080/"
    },
    "executionInfo": {
     "elapsed": 879,
     "status": "ok",
     "timestamp": 1750443234013,
     "user": {
      "displayName": "Miguel Angel Pardo",
      "userId": "16900940354237523056"
     },
     "user_tz": -120
    },
    "id": "_ukURhOcz3tB",
    "outputId": "9c9c3895-7653-4368-b14f-a7aa63ffebee"
   },
   "outputs": [
    {
     "name": "stdout",
     "output_type": "stream",
     "text": [
      "Vocabulario compuesto por 5983 palabras\n"
     ]
    }
   ],
   "source": [
    "# Create vocabulary\n",
    "sent = [row.split() for row in df['reviewTextProc']]\n",
    "w2v_model.build_vocab(sent, progress_per=10000)\n",
    "print('Vocabulario compuesto por {} palabras'.format(len(w2v_model.wv.key_to_index)))"
   ]
  },
  {
   "cell_type": "code",
   "execution_count": null,
   "metadata": {
    "colab": {
     "base_uri": "https://localhost:8080/"
    },
    "executionInfo": {
     "elapsed": 53852,
     "status": "ok",
     "timestamp": 1750443287951,
     "user": {
      "displayName": "Miguel Angel Pardo",
      "userId": "16900940354237523056"
     },
     "user_tz": -120
    },
    "id": "PVKlCaFjxrAs",
    "outputId": "a0047217-35d9-4e41-bf07-ebfa6b0eb196"
   },
   "outputs": [
    {
     "data": {
      "text/plain": [
       "(9784385, 22383750)"
      ]
     },
     "execution_count": 18,
     "metadata": {},
     "output_type": "execute_result"
    }
   ],
   "source": [
    "# Train model\n",
    "w2v_model.train(sent, total_examples=w2v_model.corpus_count, epochs=30, report_delay=1)"
   ]
  },
  {
   "cell_type": "code",
   "execution_count": null,
   "metadata": {
    "colab": {
     "base_uri": "https://localhost:8080/"
    },
    "executionInfo": {
     "elapsed": 57,
     "status": "ok",
     "timestamp": 1750445363307,
     "user": {
      "displayName": "Miguel Angel Pardo",
      "userId": "16900940354237523056"
     },
     "user_tz": -120
    },
    "id": "0QnlkSReyE5I",
    "outputId": "e356953e-a09c-4c34-bdca-26976684aafa"
   },
   "outputs": [
    {
     "data": {
      "text/plain": [
       "[('persimmon', 0.8045294880867004),\n",
       " ('pecan', 0.760225772857666),\n",
       " ('pear', 0.7511135935783386),\n",
       " ('graze', 0.7150291204452515),\n",
       " ('domin', 0.7132003307342529),\n",
       " ('peach', 0.7120025753974915),\n",
       " ('fig', 0.7073871493339539),\n",
       " ('ripe', 0.7038217782974243),\n",
       " ('rhododendron', 0.6979893445968628),\n",
       " ('myrtl', 0.6952107548713684)]"
      ]
     },
     "execution_count": 35,
     "metadata": {},
     "output_type": "execute_result"
    }
   ],
   "source": [
    "# Top10 words most similar to selected words\n",
    "words = ['squirrel','fruit','grill','tree']\n",
    "top10words = w2v_model.wv.most_similar(positive=words)\n",
    "top10words"
   ]
  },
  {
   "cell_type": "code",
   "execution_count": null,
   "metadata": {
    "colab": {
     "base_uri": "https://localhost:8080/",
     "height": 430
    },
    "executionInfo": {
     "elapsed": 510,
     "status": "ok",
     "timestamp": 1750445329803,
     "user": {
      "displayName": "Miguel Angel Pardo",
      "userId": "16900940354237523056"
     },
     "user_tz": -120
    },
    "id": "rVvw7j1H1iKg",
    "outputId": "2be6319b-e8a6-43f9-bdb8-49b876864685"
   },
   "outputs": [
    {
     "data": {
      "image/png": "[encoded data removed]",
      "text/plain": [
       "<Figure size 640x480 with 2 Axes>"
      ]
     },
     "metadata": {},
     "output_type": "display_data"
    }
   ],
   "source": [
    "# Get embeddings for top10 similar words\n",
    "words = [t[0] for t in top10words]\n",
    "embeddings = w2v_model.wv[words]\n",
    "# Plot heatmap with embeddings\n",
    "sns.heatmap(embeddings,\n",
    "            cmap = \"coolwarm\",\n",
    "            yticklabels = words\n",
    ")\n",
    "plt.show()"
   ]
  },
  {
   "cell_type": "markdown",
   "metadata": {
    "id": "_jQsHZJW-Lyz"
   },
   "source": [
    "### Conclusions\n",
    "\n",
    "The dataset is clearly imbalanced. The decision to classify levels one, two and three as negative reactions and levels four and five as positive reactions helps mitigate some of this imbalance in sample distribution. This must be taken into account when analyzing the results.\n",
    "\n",
    "Several preprocessing steps were applied, significantly reducing the vocabulary size (approximately 16,000 terms). Among the most frequent unigrams are common words like 'use', 'work', and 'product', as well as numbers like 'one' and 'two'. The most frequent bigrams include sentiment-indicating phrases such as 'work well', 'work great', and 'easi use'.\n",
    "\n",
    "The distribution of unigrams per review shows:\n",
    "\n",
    "- Some reviews contain only one word, while others exceed 1,100 words.\n",
    "\n",
    "- Most unigrams appear very few times—only a small fraction occur more than 20 times.\n",
    "\n",
    "A Word2Vec model was trained on the review texts. Words appearing fewer than five times were filtered out, reducing the vocabulary to 5,983 words. The embeddings were configured to a 30-dimensional space.\n",
    "\n",
    "The ten most similar words to 'squirrel', 'fruit', 'grill', and 'tree' were identified. Their embeddings were visualized in a heatmap, revealing semantic similarity in coordinates 7, 9, 10, 28, and 29.\n"
   ]
  }
 ],
 "metadata": {
  "colab": {
   "authorship_tag": "ABX9TyOCgzwyULwGr+zUZe68RYzN",
   "provenance": []
  },
  "kernelspec": {
   "display_name": "Python 3 (ipykernel)",
   "language": "python",
   "name": "python3"
  },
  "language_info": {
   "codemirror_mode": {
    "name": "ipython",
    "version": 3
   },
   "file_extension": ".py",
   "mimetype": "text/x-python",
   "name": "python",
   "nbconvert_exporter": "python",
   "pygments_lexer": "ipython3",
   "version": "3.10.18"
  }
 },
 "nbformat": 4,
 "nbformat_minor": 4
}
